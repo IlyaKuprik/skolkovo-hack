{
 "metadata": {
  "language_info": {
   "codemirror_mode": {
    "name": "ipython",
    "version": 3
   },
   "file_extension": ".py",
   "mimetype": "text/x-python",
   "name": "python",
   "nbconvert_exporter": "python",
   "pygments_lexer": "ipython3",
   "version": "3.9.0-final"
  },
  "orig_nbformat": 2,
  "kernelspec": {
   "name": "python3",
   "display_name": "Python 3.9.0 64-bit",
   "metadata": {
    "interpreter": {
     "hash": "46b25a7163855ce4118ad0039944c9c51a7ad8d70f6f66a782d5792f5f6962c6"
    }
   }
  }
 },
 "nbformat": 4,
 "nbformat_minor": 2,
 "cells": [
  {
   "cell_type": "code",
   "execution_count": 1,
   "metadata": {},
   "outputs": [],
   "source": [
    "import numpy as np\n",
    "import pandas as pd"
   ]
  },
  {
   "cell_type": "code",
   "execution_count": 5,
   "metadata": {},
   "outputs": [],
   "source": [
    "data_candidates_work_places = pd.read_csv('data/data_candidates_work_places.csv', sep=';',\n",
    "                                names = ['CandidateId', 'Position','FromYear', 'FromMonth', 'ToYear', 'ToMonth'])"
   ]
  },
  {
   "cell_type": "code",
   "execution_count": 6,
   "metadata": {},
   "outputs": [
    {
     "output_type": "execute_result",
     "data": {
      "text/plain": [
       "   CandidateId                                 Position  FromYear  FromMonth  \\\n",
       "0      6582292                             Мерчендайзер      2018          7   \n",
       "1      6582292  Менеджер по работе с клиентами 5 колесо      2017          6   \n",
       "2      2719696                      Водитель-экспедитор      2015          1   \n",
       "3      2719696                    Водитель персональный      2011         11   \n",
       "4      2719696                    Персональный водитель      2008          3   \n",
       "\n",
       "   ToYear  ToMonth  \n",
       "0    2019        1  \n",
       "1    2018        7  \n",
       "2    2016       10  \n",
       "3    2014        2  \n",
       "4    2011       10  "
      ],
      "text/html": "<div>\n<style scoped>\n    .dataframe tbody tr th:only-of-type {\n        vertical-align: middle;\n    }\n\n    .dataframe tbody tr th {\n        vertical-align: top;\n    }\n\n    .dataframe thead th {\n        text-align: right;\n    }\n</style>\n<table border=\"1\" class=\"dataframe\">\n  <thead>\n    <tr style=\"text-align: right;\">\n      <th></th>\n      <th>CandidateId</th>\n      <th>Position</th>\n      <th>FromYear</th>\n      <th>FromMonth</th>\n      <th>ToYear</th>\n      <th>ToMonth</th>\n    </tr>\n  </thead>\n  <tbody>\n    <tr>\n      <th>0</th>\n      <td>6582292</td>\n      <td>Мерчендайзер</td>\n      <td>2018</td>\n      <td>7</td>\n      <td>2019</td>\n      <td>1</td>\n    </tr>\n    <tr>\n      <th>1</th>\n      <td>6582292</td>\n      <td>Менеджер по работе с клиентами 5 колесо</td>\n      <td>2017</td>\n      <td>6</td>\n      <td>2018</td>\n      <td>7</td>\n    </tr>\n    <tr>\n      <th>2</th>\n      <td>2719696</td>\n      <td>Водитель-экспедитор</td>\n      <td>2015</td>\n      <td>1</td>\n      <td>2016</td>\n      <td>10</td>\n    </tr>\n    <tr>\n      <th>3</th>\n      <td>2719696</td>\n      <td>Водитель персональный</td>\n      <td>2011</td>\n      <td>11</td>\n      <td>2014</td>\n      <td>2</td>\n    </tr>\n    <tr>\n      <th>4</th>\n      <td>2719696</td>\n      <td>Персональный водитель</td>\n      <td>2008</td>\n      <td>3</td>\n      <td>2011</td>\n      <td>10</td>\n    </tr>\n  </tbody>\n</table>\n</div>"
     },
     "metadata": {},
     "execution_count": 6
    }
   ],
   "source": [
    "data_candidates_work_places.head()"
   ]
  },
  {
   "cell_type": "code",
   "execution_count": 9,
   "metadata": {},
   "outputs": [],
   "source": [
    "data_jobs = pd.read_csv('data/data_jobs.csv', sep=';',\n",
    "                                names = ['JobId', 'Status','Name', 'Region', 'Description'])"
   ]
  },
  {
   "cell_type": "code",
   "execution_count": 10,
   "metadata": {},
   "outputs": [
    {
     "output_type": "execute_result",
     "data": {
      "text/plain": [
       "   JobId  Status                 Name           Region  \\\n",
       "0    163       4  Водитель-экспедитор  Санкт-Петербург   \n",
       "1    211       4  Водитель (семейный)  Санкт-Петербург   \n",
       "2    232       2  Водитель (автобуса)  Санкт-Петербург   \n",
       "3    288       2             Водитель  Санкт-Петербург   \n",
       "4    292       4             Водитель  Санкт-Петербург   \n",
       "\n",
       "                                         Description  \n",
       "0                                                NaN  \n",
       "1                                                NaN  \n",
       "2  ---- Требования к опыту ----<br /><br />Водите...  \n",
       "3  ---- Требования к опыту ----<br /><br />от 5 л...  \n",
       "4                                                NaN  "
      ],
      "text/html": "<div>\n<style scoped>\n    .dataframe tbody tr th:only-of-type {\n        vertical-align: middle;\n    }\n\n    .dataframe tbody tr th {\n        vertical-align: top;\n    }\n\n    .dataframe thead th {\n        text-align: right;\n    }\n</style>\n<table border=\"1\" class=\"dataframe\">\n  <thead>\n    <tr style=\"text-align: right;\">\n      <th></th>\n      <th>JobId</th>\n      <th>Status</th>\n      <th>Name</th>\n      <th>Region</th>\n      <th>Description</th>\n    </tr>\n  </thead>\n  <tbody>\n    <tr>\n      <th>0</th>\n      <td>163</td>\n      <td>4</td>\n      <td>Водитель-экспедитор</td>\n      <td>Санкт-Петербург</td>\n      <td>NaN</td>\n    </tr>\n    <tr>\n      <th>1</th>\n      <td>211</td>\n      <td>4</td>\n      <td>Водитель (семейный)</td>\n      <td>Санкт-Петербург</td>\n      <td>NaN</td>\n    </tr>\n    <tr>\n      <th>2</th>\n      <td>232</td>\n      <td>2</td>\n      <td>Водитель (автобуса)</td>\n      <td>Санкт-Петербург</td>\n      <td>---- Требования к опыту ----&lt;br /&gt;&lt;br /&gt;Водите...</td>\n    </tr>\n    <tr>\n      <th>3</th>\n      <td>288</td>\n      <td>2</td>\n      <td>Водитель</td>\n      <td>Санкт-Петербург</td>\n      <td>---- Требования к опыту ----&lt;br /&gt;&lt;br /&gt;от 5 л...</td>\n    </tr>\n    <tr>\n      <th>4</th>\n      <td>292</td>\n      <td>4</td>\n      <td>Водитель</td>\n      <td>Санкт-Петербург</td>\n      <td>NaN</td>\n    </tr>\n  </tbody>\n</table>\n</div>"
     },
     "metadata": {},
     "execution_count": 10
    }
   ],
   "source": [
    "data_jobs.head()"
   ]
  },
  {
   "cell_type": "code",
   "execution_count": 12,
   "metadata": {},
   "outputs": [],
   "source": [
    "data_candidates = pd.read_csv('data/data_candidates.csv', sep=';',\n",
    "                                names = ['CandidateId', 'Position','Sex', 'Citizenship', 'Age',\n",
    "                                'Salary', 'Langs', 'DriverLicense', 'Subway', 'Skills', 'Employment', 'Shedule',                                            'CandidateRegion', 'DateCreated', 'JobId', 'CandidateStatusId', 'Status'])"
   ]
  },
  {
   "cell_type": "code",
   "execution_count": 13,
   "metadata": {},
   "outputs": [
    {
     "output_type": "execute_result",
     "data": {
      "text/plain": [
       "   CandidateId             Position  Sex Citizenship  Age  Salary Langs  \\\n",
       "0         7435  Водитель-экспедитор    2      Россия   21       0   NaN   \n",
       "1         7445  Водитель-экспедитор    2      Россия   23       0   NaN   \n",
       "2         7450  Водитель-экспедитор    2      Россия   31       0   NaN   \n",
       "3         7452  Водитель-экспедитор    2      Россия   23       0   NaN   \n",
       "4         7453  Водитель-экспедитор    2      Россия   27       0   NaN   \n",
       "\n",
       "  DriverLicense Subway Skills Employment Shedule  CandidateRegion  \\\n",
       "0           NaN    NaN    NaN       Full    Full  Санкт-Петербург   \n",
       "1           NaN    NaN    NaN       Full    Full  Санкт-Петербург   \n",
       "2           NaN    NaN    NaN       Full    Full  Санкт-Петербург   \n",
       "3           NaN    NaN    NaN       Full    Full  Санкт-Петербург   \n",
       "4           NaN    NaN    NaN       Full    Full  Санкт-Петербург   \n",
       "\n",
       "                   DateCreated  JobId  CandidateStatusId    Status  \n",
       "0  2014-01-15 00:00:00.0000000    163               1425  Отклонен  \n",
       "1  2014-01-15 00:00:00.0000000    163               1425  Отклонен  \n",
       "2  2014-01-15 00:00:00.0000000    163               1425  Отклонен  \n",
       "3  2014-01-15 00:00:00.0000000    163               1425  Отклонен  \n",
       "4  2014-01-15 00:00:00.0000000    163               1425  Отклонен  "
      ],
      "text/html": "<div>\n<style scoped>\n    .dataframe tbody tr th:only-of-type {\n        vertical-align: middle;\n    }\n\n    .dataframe tbody tr th {\n        vertical-align: top;\n    }\n\n    .dataframe thead th {\n        text-align: right;\n    }\n</style>\n<table border=\"1\" class=\"dataframe\">\n  <thead>\n    <tr style=\"text-align: right;\">\n      <th></th>\n      <th>CandidateId</th>\n      <th>Position</th>\n      <th>Sex</th>\n      <th>Citizenship</th>\n      <th>Age</th>\n      <th>Salary</th>\n      <th>Langs</th>\n      <th>DriverLicense</th>\n      <th>Subway</th>\n      <th>Skills</th>\n      <th>Employment</th>\n      <th>Shedule</th>\n      <th>CandidateRegion</th>\n      <th>DateCreated</th>\n      <th>JobId</th>\n      <th>CandidateStatusId</th>\n      <th>Status</th>\n    </tr>\n  </thead>\n  <tbody>\n    <tr>\n      <th>0</th>\n      <td>7435</td>\n      <td>Водитель-экспедитор</td>\n      <td>2</td>\n      <td>Россия</td>\n      <td>21</td>\n      <td>0</td>\n      <td>NaN</td>\n      <td>NaN</td>\n      <td>NaN</td>\n      <td>NaN</td>\n      <td>Full</td>\n      <td>Full</td>\n      <td>Санкт-Петербург</td>\n      <td>2014-01-15 00:00:00.0000000</td>\n      <td>163</td>\n      <td>1425</td>\n      <td>Отклонен</td>\n    </tr>\n    <tr>\n      <th>1</th>\n      <td>7445</td>\n      <td>Водитель-экспедитор</td>\n      <td>2</td>\n      <td>Россия</td>\n      <td>23</td>\n      <td>0</td>\n      <td>NaN</td>\n      <td>NaN</td>\n      <td>NaN</td>\n      <td>NaN</td>\n      <td>Full</td>\n      <td>Full</td>\n      <td>Санкт-Петербург</td>\n      <td>2014-01-15 00:00:00.0000000</td>\n      <td>163</td>\n      <td>1425</td>\n      <td>Отклонен</td>\n    </tr>\n    <tr>\n      <th>2</th>\n      <td>7450</td>\n      <td>Водитель-экспедитор</td>\n      <td>2</td>\n      <td>Россия</td>\n      <td>31</td>\n      <td>0</td>\n      <td>NaN</td>\n      <td>NaN</td>\n      <td>NaN</td>\n      <td>NaN</td>\n      <td>Full</td>\n      <td>Full</td>\n      <td>Санкт-Петербург</td>\n      <td>2014-01-15 00:00:00.0000000</td>\n      <td>163</td>\n      <td>1425</td>\n      <td>Отклонен</td>\n    </tr>\n    <tr>\n      <th>3</th>\n      <td>7452</td>\n      <td>Водитель-экспедитор</td>\n      <td>2</td>\n      <td>Россия</td>\n      <td>23</td>\n      <td>0</td>\n      <td>NaN</td>\n      <td>NaN</td>\n      <td>NaN</td>\n      <td>NaN</td>\n      <td>Full</td>\n      <td>Full</td>\n      <td>Санкт-Петербург</td>\n      <td>2014-01-15 00:00:00.0000000</td>\n      <td>163</td>\n      <td>1425</td>\n      <td>Отклонен</td>\n    </tr>\n    <tr>\n      <th>4</th>\n      <td>7453</td>\n      <td>Водитель-экспедитор</td>\n      <td>2</td>\n      <td>Россия</td>\n      <td>27</td>\n      <td>0</td>\n      <td>NaN</td>\n      <td>NaN</td>\n      <td>NaN</td>\n      <td>NaN</td>\n      <td>Full</td>\n      <td>Full</td>\n      <td>Санкт-Петербург</td>\n      <td>2014-01-15 00:00:00.0000000</td>\n      <td>163</td>\n      <td>1425</td>\n      <td>Отклонен</td>\n    </tr>\n  </tbody>\n</table>\n</div>"
     },
     "metadata": {},
     "execution_count": 13
    }
   ],
   "source": [
    "data_candidates.head()"
   ]
  },
  {
   "cell_type": "code",
   "execution_count": 15,
   "metadata": {},
   "outputs": [],
   "source": [
    "data_candidates_education = pd.read_csv('data/data_candidates_education.csv', sep=';',\n",
    "                                names = ['CandidateId', 'University', 'Faculty', 'GraduateYear'])"
   ]
  },
  {
   "cell_type": "code",
   "execution_count": 16,
   "metadata": {},
   "outputs": [
    {
     "output_type": "execute_result",
     "data": {
      "text/plain": [
       "   CandidateId                                         University  \\\n",
       "0      1300011           Бендерский Политехнический Лицей-Колледж   \n",
       "1      1300011                                 средне-специальное   \n",
       "2      1300011           Бендерский Политехнический Лицей-Колледж   \n",
       "3      1548847                 Борисоглебский медицинский колледж   \n",
       "4      1439965  Воронежский государственный архитектурно-строи...   \n",
       "\n",
       "                                             Faculty  GraduateYear  \n",
       "0  Техническое обслуживание и ремонт автомобильно...          1995  \n",
       "1    техническое обслуживане и ремонт автотранспорта          1995  \n",
       "2   Техническое обслуживание и ремонт автотранспорта          1995  \n",
       "3                            лечебное дело, фельдшер          2011  \n",
       "4                                       Заочный, ГСХ          2012  "
      ],
      "text/html": "<div>\n<style scoped>\n    .dataframe tbody tr th:only-of-type {\n        vertical-align: middle;\n    }\n\n    .dataframe tbody tr th {\n        vertical-align: top;\n    }\n\n    .dataframe thead th {\n        text-align: right;\n    }\n</style>\n<table border=\"1\" class=\"dataframe\">\n  <thead>\n    <tr style=\"text-align: right;\">\n      <th></th>\n      <th>CandidateId</th>\n      <th>University</th>\n      <th>Faculty</th>\n      <th>GraduateYear</th>\n    </tr>\n  </thead>\n  <tbody>\n    <tr>\n      <th>0</th>\n      <td>1300011</td>\n      <td>Бендерский Политехнический Лицей-Колледж</td>\n      <td>Техническое обслуживание и ремонт автомобильно...</td>\n      <td>1995</td>\n    </tr>\n    <tr>\n      <th>1</th>\n      <td>1300011</td>\n      <td>средне-специальное</td>\n      <td>техническое обслуживане и ремонт автотранспорта</td>\n      <td>1995</td>\n    </tr>\n    <tr>\n      <th>2</th>\n      <td>1300011</td>\n      <td>Бендерский Политехнический Лицей-Колледж</td>\n      <td>Техническое обслуживание и ремонт автотранспорта</td>\n      <td>1995</td>\n    </tr>\n    <tr>\n      <th>3</th>\n      <td>1548847</td>\n      <td>Борисоглебский медицинский колледж</td>\n      <td>лечебное дело, фельдшер</td>\n      <td>2011</td>\n    </tr>\n    <tr>\n      <th>4</th>\n      <td>1439965</td>\n      <td>Воронежский государственный архитектурно-строи...</td>\n      <td>Заочный, ГСХ</td>\n      <td>2012</td>\n    </tr>\n  </tbody>\n</table>\n</div>"
     },
     "metadata": {},
     "execution_count": 16
    }
   ],
   "source": [
    "data_candidates_education.head()"
   ]
  }
 ]
}