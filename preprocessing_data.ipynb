{
  "metadata": {
    "language_info": {
      "codemirror_mode": {
        "name": "ipython",
        "version": 3
      },
      "file_extension": ".py",
      "mimetype": "text/x-python",
      "name": "python",
      "nbconvert_exporter": "python",
      "pygments_lexer": "ipython3",
      "version": "3.9.0-final"
    },
    "orig_nbformat": 2,
    "kernelspec": {
      "name": "python3",
      "display_name": "Python 3.9.0 64-bit",
      "metadata": {
        "interpreter": {
          "hash": "46b25a7163855ce4118ad0039944c9c51a7ad8d70f6f66a782d5792f5f6962c6"
        }
      }
    },
    "colab": {
      "provenance": []
    }
  },
  "nbformat": 4,
  "nbformat_minor": 0,
  "cells": [
    {
      "cell_type": "code",
      "execution_count": 1,
      "metadata": {
        "id": "RqbLwu2IZblF"
      },
      "outputs": [],
      "source": [
        "import numpy as np\n",
        "import pandas as pd"
      ]
    },
    {
      "cell_type": "code",
      "source": [
        "from google.colab import drive\n",
        "drive.mount('/content/drive')"
      ],
      "metadata": {
        "colab": {
          "base_uri": "https://localhost:8080/"
        },
        "id": "QZOoYQQtZ-KN",
        "outputId": "a5857989-2672-4fa9-de47-ade60cd3de7b"
      },
      "execution_count": 2,
      "outputs": [
        {
          "output_type": "stream",
          "name": "stdout",
          "text": [
            "Mounted at /content/drive\n"
          ]
        }
      ]
    },
    {
      "cell_type": "markdown",
      "source": [
        "# Process"
      ],
      "metadata": {
        "id": "GP6d9cKh63km"
      }
    },
    {
      "cell_type": "markdown",
      "source": [
        "## загрузка\n"
      ],
      "metadata": {
        "id": "1AjZEdqe7D2v"
      }
    },
    {
      "cell_type": "code",
      "source": [
        "{\"Самоотказ РЦ\": 1, \"Не отвечает\": 2, \"Отказ РЦ\": 4, \"Думает РЦ\": 5, \"Не пришел\": 5, \"Приглашен\": 5, \"Отклонен\": 5, \"Не пришёл\": 5, \n",
        "  \"Назначено собеседование в ресторан\": 5, \"Телефонное интервью\": 5, \"Пришел\": 5, \"Обзвон\": 5, \"ОТКАЗ СЦ\": 5, \"Отказ кандидата\": 5, \n",
        "  \"Отклик\": 5, \"Думает МП\":5, \"Расторгнул договор\": 5, \"Лендинг\": 5, \"Резерв\": 5, \"Отказ\": 5}"
      ],
      "metadata": {
        "colab": {
          "base_uri": "https://localhost:8080/"
        },
        "id": "nawquOuIQS2H",
        "outputId": "418ddbb2-735c-4a18-bb56-9ae740649ecd"
      },
      "execution_count": 234,
      "outputs": [
        {
          "output_type": "execute_result",
          "data": {
            "text/plain": [
              "{'Самоотказ РЦ': 1,\n",
              " 'Не отвечает': 2,\n",
              " 'Отказ РЦ': 4,\n",
              " 'Думает РЦ': 5,\n",
              " 'Не пришел': 5,\n",
              " 'Приглашен': 5,\n",
              " 'Отклонен': 5,\n",
              " 'Не пришёл': 5,\n",
              " 'Назначено собеседование в ресторан': 5,\n",
              " 'Телефонное интервью': 5,\n",
              " 'Пришел': 5,\n",
              " 'Обзвон': 5,\n",
              " 'ОТКАЗ СЦ': 5,\n",
              " 'Отказ кандидата': 5,\n",
              " 'Отклик': 5,\n",
              " 'Думает МП': 5,\n",
              " 'Расторгнул договор': 5,\n",
              " 'Лендинг': 5,\n",
              " 'Резерв': 5,\n",
              " 'Отказ': 5}"
            ]
          },
          "metadata": {},
          "execution_count": 234
        }
      ]
    },
    {
      "cell_type": "code",
      "execution_count": 237,
      "metadata": {
        "id": "suoPjAG3ZblH"
      },
      "outputs": [],
      "source": [
        "data_candidates_work_places = pd.read_csv('/content/drive/MyDrive/hack/data/data_candidates_work_places.csv', sep=';',\n",
        "                                names = ['CandidateId', 'Position','FromYear', 'FromMonth', 'ToYear', 'ToMonth'])"
      ]
    },
    {
      "cell_type": "code",
      "execution_count": 238,
      "metadata": {
        "id": "41zOkeuXZblJ"
      },
      "outputs": [],
      "source": [
        "data_jobs = pd.read_csv('/content/drive/MyDrive/hack/data/data_jobs.csv', sep=';',\n",
        "                                names = ['JobId', 'Status','Name', 'Region', 'Description'])"
      ]
    },
    {
      "cell_type": "code",
      "execution_count": 239,
      "metadata": {
        "id": "Yi69XN8lZblK"
      },
      "outputs": [],
      "source": [
        "data_candidates = pd.read_csv('/content/drive/MyDrive/hack/data/data_candidates.csv', sep=';',\n",
        "                                names = ['CandidateId', 'Position','Sex', 'Citizenship', 'Age',\n",
        "                                'Salary', 'Langs', 'DriverLicense', 'Subway', 'Skills', 'Employment', 'Shedule',                                           \n",
        "                                 'CandidateRegion', 'DateCreated', 'JobId', 'CandidateStatusId', 'Status'])"
      ]
    },
    {
      "cell_type": "code",
      "execution_count": 240,
      "metadata": {
        "id": "uSeaqxyhZblL"
      },
      "outputs": [],
      "source": [
        "data_candidates_education = pd.read_csv('/content/drive/MyDrive/hack/data/data_candidates_education.csv', sep=';',\n",
        "                                names = ['CandidateId', 'University', 'Faculty', 'GraduateYear'])"
      ]
    },
    {
      "cell_type": "markdown",
      "source": [
        "## группировка и создание последнего статуса"
      ],
      "metadata": {
        "id": "uAmpyIMC7UHn"
      }
    },
    {
      "cell_type": "code",
      "source": [],
      "metadata": {
        "id": "6fMNGsu7Y-NR"
      },
      "execution_count": null,
      "outputs": []
    },
    {
      "cell_type": "code",
      "source": [
        "cols_val = {str(i): 'last' for i in data_candidates.columns}"
      ],
      "metadata": {
        "id": "EqC0TcQRSKVs"
      },
      "execution_count": 273,
      "outputs": []
    },
    {
      "cell_type": "code",
      "source": [
        "grouped_with_last_status = data_candidates.sort_values(by = 'DateCreated').loc[:,data_candidates.columns]\\\n",
        ".groupby(by = ['CandidateId','JobId'], axis = 0, sort = False, as_index = False).agg( cols_val)"
      ],
      "metadata": {
        "id": "IS1SbTb37bpf"
      },
      "execution_count": 274,
      "outputs": []
    },
    {
      "cell_type": "code",
      "source": [
        "target_map = {\"Самоотказ РЦ\": 1, \"Не отвечает\": 0, \"Отказ РЦ\": 0, \"Думает РЦ\": 0.3, \"Не пришел\": 0.7, \"Приглашен\": 0.85, \"Отклонен\": 0.5, \"Не пришёл\": 0.8, \n",
        "  \"Назначено собеседование в ресторан\": 0.8, \"Телефонное интервью\": 1, \"Пришел\": 0.5, \"Обзвон\": 0.6, \"ОТКАЗ СЦ\": 0.3, \"Отказ кандидата\": 1, \n",
        "  \"Отклик\": 0.9, \"Думает МП\":0.4, \"Расторгнул договор\": 0.15, \"Лендинг\": 0.6, \"Резерв\": 0.5, \"Отказ\": 0.3}"
      ],
      "metadata": {
        "id": "UYQSmxc59Lwm"
      },
      "execution_count": 275,
      "outputs": []
    },
    {
      "cell_type": "code",
      "source": [
        "targets = grouped_with_last_status['Status'].apply(lambda x: target_map[x] if x in target_map else np.NaN)\n",
        "grouped_with_ids_target = grouped_with_last_status.loc[:, ['CandidateId', 'JobId',]]\n",
        "grouped_with_ids_target['target'] = targets"
      ],
      "metadata": {
        "id": "pXUXQzZ6Z_uK"
      },
      "execution_count": 276,
      "outputs": []
    },
    {
      "cell_type": "code",
      "source": [
        "grouped_table_candidates_features = grouped_with_last_status.drop(columns = ['Status'])"
      ],
      "metadata": {
        "id": "Rf7dVxIST3tW"
      },
      "execution_count": 277,
      "outputs": []
    },
    {
      "cell_type": "code",
      "source": [
        "new_df = grouped_table_candidates_features\\\n",
        "    .merge(data_jobs, on='JobId')\\\n",
        "    .merge(data_candidates_education.drop_duplicates('CandidateId'), on='CandidateId', how='left')\n",
        "new_df.index = [new_df.CandidateId, new_df.JobId]\n",
        "df = new_df.drop(columns=['Region', 'Description', 'JobId', 'CandidateId'])\n",
        "df.Sex = df.Sex\\\n",
        "    .where(~(df.Sex == 2), other='мужчина')\\\n",
        "    .where(~(df.Sex == 1), other='женщина')\\\n",
        "    .where(~(df.Sex == 0), other='неопределен')\n",
        "df = df.fillna('NaN').astype(str).add('. ').sum(axis=1).reset_index()\n",
        " \n",
        "status_jobs = pd.DataFrame([[1, 'открытая'], [2, 'закрытая'], [3, 'приостановленная'], [4, 'отменена'], [5, 'черновик']],\n",
        "                          columns = ['Status', 'name_status'])\n",
        "new_data_jobs = data_jobs\\\n",
        "    .merge(status_jobs, on='Status')\n",
        "new_data_jobs.index = new_data_jobs.JobId\n",
        "job_user_tokens1 = new_data_jobs\\\n",
        "    .drop(columns=['Status', 'JobId', 'Description'])\\\n",
        "    .fillna('NaN')\\\n",
        "    .astype(str)\\\n",
        "    .add('. ')\\\n",
        "    .sum(axis=1)\\\n",
        "    .reset_index()\n",
        " \n",
        "job_user_tokens2 = df\n",
        "job_user_tokens_with_id = job_user_tokens2\\\n",
        "    .merge(job_user_tokens1, on='JobId')"
      ],
      "metadata": {
        "id": "9qb-8PWUZCwI"
      },
      "execution_count": 278,
      "outputs": []
    },
    {
      "cell_type": "code",
      "source": [
        "merged_descriptions_targets_ids = job_user_tokens_with_id.merge(grouped_with_ids_target, on = ['JobId', 'CandidateId'], how = 'inner')\n",
        "merged_descriptions_targets_ids.columns = [\"CandidateId\", \"JobId\", \"Candidate_descr\", \"Jobs_descr\", \"target\"]\n",
        "merged_descriptions_targets_ids = merged_descriptions_targets_ids.fillna(1/2)"
      ],
      "metadata": {
        "id": "Z8OpEUO0ZhlQ"
      },
      "execution_count": 288,
      "outputs": []
    },
    {
      "cell_type": "code",
      "source": [
        "merged_descriptions_targets_ids.to_csv('preprocess_data.csv')"
      ],
      "metadata": {
        "id": "2z0sLZ2soudt"
      },
      "execution_count": 293,
      "outputs": []
    }
  ]
}