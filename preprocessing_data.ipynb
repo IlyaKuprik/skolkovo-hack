{
  "metadata": {
    "language_info": {
      "codemirror_mode": {
        "name": "ipython",
        "version": 3
      },
      "file_extension": ".py",
      "mimetype": "text/x-python",
      "name": "python",
      "nbconvert_exporter": "python",
      "pygments_lexer": "ipython3",
      "version": "3.9.0-final"
    },
    "orig_nbformat": 2,
    "kernelspec": {
      "name": "python3",
      "display_name": "Python 3.9.0 64-bit",
      "metadata": {
        "interpreter": {
          "hash": "46b25a7163855ce4118ad0039944c9c51a7ad8d70f6f66a782d5792f5f6962c6"
        }
      }
    },
    "colab": {
      "provenance": [],
      "collapsed_sections": [],
      "toc_visible": true,
      "include_colab_link": true
    }
  },
  "nbformat": 4,
  "nbformat_minor": 0,
  "cells": [
    {
      "cell_type": "markdown",
      "metadata": {
        "id": "view-in-github",
        "colab_type": "text"
      },
      "source": [
        "<a href=\"https://colab.research.google.com/github/IlyaKuprik/skolkovo-hack/blob/main/preprocessing_data.ipynb\" target=\"_parent\"><img src=\"https://colab.research.google.com/assets/colab-badge.svg\" alt=\"Open In Colab\"/></a>"
      ]
    },
    {
      "cell_type": "code",
      "execution_count": 1,
      "metadata": {
        "id": "RqbLwu2IZblF"
      },
      "outputs": [],
      "source": [
        "import numpy as np\n",
        "import pandas as pd"
      ]
    },
    {
      "cell_type": "code",
      "source": [
        "from google.colab import drive\n",
        "drive.mount('/content/drive')"
      ],
      "metadata": {
        "colab": {
          "base_uri": "https://localhost:8080/"
        },
        "id": "QZOoYQQtZ-KN",
        "outputId": "32c30cd7-77e4-49e3-ee6e-6fc08f413d31"
      },
      "execution_count": 3,
      "outputs": [
        {
          "output_type": "stream",
          "name": "stdout",
          "text": [
            "Mounted at /content/drive\n"
          ]
        }
      ]
    },
    {
      "cell_type": "markdown",
      "source": [
        "# Process"
      ],
      "metadata": {
        "id": "GP6d9cKh63km"
      }
    },
    {
      "cell_type": "markdown",
      "source": [
        "## загрузка\n"
      ],
      "metadata": {
        "id": "1AjZEdqe7D2v"
      }
    },
    {
      "cell_type": "code",
      "source": [
        "{\"Самоотказ РЦ\": 1, \"Не отвечает\": 0.1, \"Отказ РЦ\": 0, \"Думает РЦ\": 0.3, \"Не пришел\": 0.7, \"Приглашен\": 0.85, \"Отклонен\": 0.5, \"Не пришёл\": 0.8, \n",
        "  \"Назначено собеседование в ресторан\": 0.8, \"Телефонное интервью\": 0.7, \"Пришел\": 0.5, \"Обзвон\": 0.6, \"ОТКАЗ СЦ\": 0.3, \"Отказ кандидата\": 1, \n",
        "  \"Отклик\": 0.9, \"Думает МП\":0.4, \"Расторгнул договор\": 0.15, \"Лендинг\": 0.6, \"Резерв\": 0.5, \"Отказ\": 0.3, 'Вышел на линию': 0.9,\n",
        "  \"Принят на работу\": 0.95, \"Оформлен\": 0.9, \"Неактуально\": 0, \"Отказ компании\": 0, \"Перезаписался\": 0.4, \"Отказался/Нашел работу\": 0.3,\n",
        "  \"Заключил договор\": 0.8, \"Отправлен на СБ\": 0.85, \"Интервью с HR\": 0.85, \"Самоотказ МП\": 0.5, \"Недозвон\": 0.2, \"Отказ по итогам скрининга резюме\": 0,\n",
        "  \"Не прошёл СБ\": 0.5, \"Отказ HR\": 0, \"Резерв РЦ\": 0.2, \"Не пришел (повторно)\": 0.6, \"Интервью\": 0.8, \"Отказ ВВСС (другое)\": 0.2, \"Отказ СБ\": 0.65}"
      ],
      "metadata": {
        "id": "nawquOuIQS2H"
      },
      "execution_count": null,
      "outputs": []
    },
    {
      "cell_type": "code",
      "execution_count": 4,
      "metadata": {
        "id": "suoPjAG3ZblH"
      },
      "outputs": [],
      "source": [
        "data_candidates_work_places = pd.read_csv('/content/drive/MyDrive/hack/data/data_candidates_work_places.csv', sep=';',\n",
        "                                names = ['CandidateId', 'Position','FromYear', 'FromMonth', 'ToYear', 'ToMonth'])"
      ]
    },
    {
      "cell_type": "code",
      "execution_count": 5,
      "metadata": {
        "id": "41zOkeuXZblJ"
      },
      "outputs": [],
      "source": [
        "data_jobs = pd.read_csv('/content/drive/MyDrive/hack/data/data_jobs.csv', sep=';',\n",
        "                                names = ['JobId', 'Status','Name', 'Region', 'Description'])"
      ]
    },
    {
      "cell_type": "code",
      "execution_count": 6,
      "metadata": {
        "id": "Yi69XN8lZblK"
      },
      "outputs": [],
      "source": [
        "data_candidates = pd.read_csv('/content/drive/MyDrive/hack/data/data_candidates.csv', sep=';',\n",
        "                                names = ['CandidateId', 'Position','Sex', 'Citizenship', 'Age',\n",
        "                                'Salary', 'Langs', 'DriverLicense', 'Subway', 'Skills', 'Employment', 'Shedule',                                           \n",
        "                                 'CandidateRegion', 'DateCreated', 'JobId', 'CandidateStatusId', 'Status'])"
      ]
    },
    {
      "cell_type": "code",
      "execution_count": 7,
      "metadata": {
        "id": "uSeaqxyhZblL"
      },
      "outputs": [],
      "source": [
        "data_candidates_education = pd.read_csv('/content/drive/MyDrive/hack/data/data_candidates_education.csv', sep=';',\n",
        "                                names = ['CandidateId', 'University', 'Faculty', 'GraduateYear'])"
      ]
    },
    {
      "cell_type": "markdown",
      "source": [
        "## группировка и создание последнего статуса"
      ],
      "metadata": {
        "id": "uAmpyIMC7UHn"
      }
    },
    {
      "cell_type": "code",
      "source": [
        "import re\n",
        " \n",
        "CLEANR = re.compile('<.*?>|&([a-z0-9]+|#[0-9]{1,6}|#x[0-9a-f]{1,6});|-|/|;|_|•')\n",
        " \n",
        "def cleanhtml(raw_html):\n",
        "    if type(raw_html) == type(''):\n",
        "        return re.sub(CLEANR, '', raw_html)\n",
        "    return raw_html\n",
        " \n",
        "data_jobs.Description = data_jobs.Description.apply(cleanhtml)"
      ],
      "metadata": {
        "id": "6fMNGsu7Y-NR"
      },
      "execution_count": 71,
      "outputs": []
    },
    {
      "cell_type": "code",
      "source": [
        "cols_val = {str(i): 'last' for i in data_candidates.columns}"
      ],
      "metadata": {
        "id": "EqC0TcQRSKVs"
      },
      "execution_count": 72,
      "outputs": []
    },
    {
      "cell_type": "code",
      "source": [
        "grouped_with_last_status = data_candidates.sort_values(by = 'DateCreated').loc[:,data_candidates.columns]\\\n",
        ".groupby(by = ['CandidateId','JobId'], axis = 0, sort = False, as_index = False).agg( cols_val)"
      ],
      "metadata": {
        "id": "IS1SbTb37bpf"
      },
      "execution_count": 73,
      "outputs": []
    },
    {
      "cell_type": "code",
      "source": [
        "target_map = {\"Самоотказ РЦ\": 1, \"Не отвечает\": 0.1, \"Отказ РЦ\": 0, \"Думает РЦ\": 0.3, \"Не пришел\": 0.7, \"Приглашен\": 0.85, \"Отклонен\": 0.5, \"Не пришёл\": 0.8, \n",
        "  \"Назначено собеседование в ресторан\": 0.8, \"Телефонное интервью\": 0.7, \"Пришел\": 0.5, \"Обзвон\": 0.6, \"ОТКАЗ СЦ\": 0.3, \"Отказ кандидата\": 1, \n",
        "  \"Отклик\": 0.9, \"Думает МП\":0.4, \"Расторгнул договор\": 0.15, \"Лендинг\": 0.6, \"Резерв\": 0.5, \"Отказ\": 0.3, 'Вышел на линию': 0.9,\n",
        "  \"Принят на работу\": 0.95, \"Оформлен\": 0.9, \"Неактуально\": 0, \"Отказ компании\": 0, \"Перезаписался\": 0.4, \"Отказался/Нашел работу\": 0.3,\n",
        "  \"Заключил договор\": 0.8, \"Отправлен на СБ\": 0.85, \"Интервью с HR\": 0.85, \"Самоотказ МП\": 0.5, \"Недозвон\": 0.2, \"Отказ по итогам скрининга резюме\": 0,\n",
        "  \"Не прошёл СБ\": 0.5, \"Отказ HR\": 0, \"Резерв РЦ\": 0.2, \"Не пришел (повторно)\": 0.6, \"Интервью\": 0.8, \"Отказ ВВСС (другое)\": 0.2, \"Отказ СБ\": 0.65}"
      ],
      "metadata": {
        "id": "UYQSmxc59Lwm"
      },
      "execution_count": 74,
      "outputs": []
    },
    {
      "cell_type": "markdown",
      "source": [
        "## Штрафы"
      ],
      "metadata": {
        "id": "quI945HEuYAu"
      }
    },
    {
      "cell_type": "code",
      "source": [
        "targets = grouped_with_last_status['Status'].apply(lambda x: target_map[x] if x in target_map else 1/2) ## Заполнили NA\n",
        "grouped_with_ids_target = grouped_with_last_status.loc[:, ['CandidateId', 'JobId',]]\n",
        "grouped_with_ids_target['target'] = targets"
      ],
      "metadata": {
        "id": "pXUXQzZ6Z_uK"
      },
      "execution_count": 75,
      "outputs": []
    },
    {
      "cell_type": "code",
      "source": [
        "#Инициализация штрафов\n",
        "number_fields = ['Age', 'Salary']\n",
        "string_fields = ['Position', 'Citizenship', 'Langs',\\\n",
        "                  'Skills', 'Employment', 'Shedule', 'CandidateRegion']\n",
        "fines_vector = [1/18]*9"
      ],
      "metadata": {
        "id": "eBFqmjMwuf5v"
      },
      "execution_count": 76,
      "outputs": []
    },
    {
      "cell_type": "code",
      "source": [
        "\n",
        "mask_df = grouped_with_last_status.copy()\n",
        "mask_df[number_fields] = grouped_with_last_status[number_fields].apply(lambda x: x == 0)\n",
        "mask_df[string_fields] = grouped_with_last_status[string_fields].apply(lambda x: x.isna())\n",
        "\n",
        "total_fine = mask_df[number_fields + string_fields].apply(lambda x: 1 - (np.array(x) * np.array(fines_vector)).sum(), axis = 1)\n",
        "total_target = targets*total_fine\n",
        "grouped_with_ids_target['target'] = total_target"
      ],
      "metadata": {
        "id": "sLxgskO5wqj5"
      },
      "execution_count": 77,
      "outputs": []
    },
    {
      "cell_type": "markdown",
      "source": [
        "## Обработка текста"
      ],
      "metadata": {
        "id": "y4EqNLNsugIc"
      }
    },
    {
      "cell_type": "code",
      "source": [
        "grouped_table_candidates_features = grouped_with_last_status.drop(columns = ['Status', 'CandidateStatusId'])"
      ],
      "metadata": {
        "id": "Rf7dVxIST3tW"
      },
      "execution_count": 78,
      "outputs": []
    },
    {
      "cell_type": "code",
      "source": [
        "grouped_table_candidates_features"
      ],
      "metadata": {
        "id": "tbmulKRWq4JD"
      },
      "execution_count": null,
      "outputs": []
    },
    {
      "cell_type": "code",
      "source": [
        "new_df = grouped_table_candidates_features\\\n",
        "    .merge(data_jobs, on='JobId')\\\n",
        "    .merge(data_candidates_education.drop_duplicates('CandidateId'), on='CandidateId', how='left')\n",
        "new_df.index = [new_df.CandidateId, new_df.JobId]\n",
        "df = new_df.drop(columns=['Region', 'Description', 'JobId', 'CandidateId'])\n",
        "df.Sex = df.Sex\\\n",
        "    .where(~(df.Sex == 2), other='мужчина')\\\n",
        "    .where(~(df.Sex == 1), other='женщина')\\\n",
        "    .where(~(df.Sex == 0), other='неопределен')\n",
        "df = df.fillna('NaN').astype(str).drop(columns = [\"Status\"]).add('. ').sum(axis=1).reset_index()\n",
        " \n",
        "status_jobs = pd.DataFrame([[1, 'открытая'], [2, 'закрытая'], [3, 'приостановленная'], [4, 'отменена'], [5, 'черновик']],\n",
        "                          columns = ['Status', 'name_status'])\n",
        "new_data_jobs = data_jobs\\\n",
        "    .merge(status_jobs, on='Status')\n",
        "new_data_jobs.index = new_data_jobs.JobId\n",
        "job_user_tokens1 = new_data_jobs\\\n",
        "    .drop(columns=['Status', 'JobId'])\\\n",
        "    .fillna('NaN')\\\n",
        "    .astype(str)\\\n",
        "    .add('. ')\\\n",
        "    .sum(axis=1)\\\n",
        "    .reset_index()\n",
        " \n",
        "job_user_tokens2 = df\n",
        "job_user_tokens_with_id = job_user_tokens2\\\n",
        "    .merge(job_user_tokens1, on='JobId')"
      ],
      "metadata": {
        "id": "9qb-8PWUZCwI"
      },
      "execution_count": 79,
      "outputs": []
    },
    {
      "cell_type": "code",
      "source": [
        "merged_descriptions_targets_ids = job_user_tokens_with_id.merge(grouped_with_ids_target, on = ['JobId', 'CandidateId'], how = 'inner')\n",
        "merged_descriptions_targets_ids.columns = [\"CandidateId\", \"JobId\", \"Candidate_descr\", \"Jobs_descr\", \"target\"]\n",
        "merged_descriptions_targets_ids.isna().sum()\n",
        "merged_descriptions_targets_ids = merged_descriptions_targets_ids.fillna(1/2)"
      ],
      "metadata": {
        "id": "Z8OpEUO0ZhlQ"
      },
      "execution_count": 62,
      "outputs": []
    },
    {
      "cell_type": "code",
      "source": [
        "merged_descriptions_targets_ids"
      ],
      "metadata": {
        "colab": {
          "base_uri": "https://localhost:8080/",
          "height": 424
        },
        "id": "ggTzWnlQrXm1",
        "outputId": "f9b5c18a-c331-4f3d-92ec-b854848a786d"
      },
      "execution_count": 63,
      "outputs": [
        {
          "output_type": "execute_result",
          "data": {
            "text/plain": [
              "       CandidateId   JobId                                    Candidate_descr  \\\n",
              "0            23669     369  Водитель. мужчина. Гражданство. 37. 0. NaN. Na...   \n",
              "1            23954     369  Водитель. неопределен. NaN. 0. 0. NaN. NaN. Na...   \n",
              "2            23680     369  Водитель. мужчина. Россия. 27. 0. NaN. NaN. Na...   \n",
              "3            23682     369  Водитель. мужчина. Россия. 25. 0. NaN. NaN. Na...   \n",
              "4            23681     369  Водитель. мужчина. Россия. 35. 0. NaN. NaN. Na...   \n",
              "...            ...     ...                                                ...   \n",
              "57353     24191092  370097  Водитель ричтрака (погрузчика) на складе катег...   \n",
              "57354     24191343  370097  Водитель погрузчика. мужчина. Россия. 48. 8000...   \n",
              "57355     24207766  370097  Кладовщик-комплектовщик. мужчина. Россия. 35. ...   \n",
              "57356     24207796  370097  Водитель погрузчика, Штабелера. мужчина. Росси...   \n",
              "57357     24228268  370097  Водитель электропогрузчика. мужчина. Россия. 0...   \n",
              "\n",
              "                                              Jobs_descr  target  \n",
              "0      Водитель. Санкт-Петербург.  Требования к опыту...    0.50  \n",
              "1      Водитель. Санкт-Петербург.  Требования к опыту...    0.95  \n",
              "2      Водитель. Санкт-Петербург.  Требования к опыту...    0.50  \n",
              "3      Водитель. Санкт-Петербург.  Требования к опыту...    0.50  \n",
              "4      Водитель. Санкт-Петербург.  Требования к опыту...    0.50  \n",
              "...                                                  ...     ...  \n",
              "57353  Водитель погрузчика / штабелера. Москва. Водит...    0.50  \n",
              "57354  Водитель погрузчика / штабелера. Москва. Водит...    0.00  \n",
              "57355  Водитель погрузчика / штабелера. Москва. Водит...    0.70  \n",
              "57356  Водитель погрузчика / штабелера. Москва. Водит...    0.70  \n",
              "57357  Водитель погрузчика / штабелера. Москва. Водит...    0.70  \n",
              "\n",
              "[57358 rows x 5 columns]"
            ],
            "text/html": [
              "\n",
              "  <div id=\"df-e9761698-b43c-4902-816f-3bf942d1ad13\">\n",
              "    <div class=\"colab-df-container\">\n",
              "      <div>\n",
              "<style scoped>\n",
              "    .dataframe tbody tr th:only-of-type {\n",
              "        vertical-align: middle;\n",
              "    }\n",
              "\n",
              "    .dataframe tbody tr th {\n",
              "        vertical-align: top;\n",
              "    }\n",
              "\n",
              "    .dataframe thead th {\n",
              "        text-align: right;\n",
              "    }\n",
              "</style>\n",
              "<table border=\"1\" class=\"dataframe\">\n",
              "  <thead>\n",
              "    <tr style=\"text-align: right;\">\n",
              "      <th></th>\n",
              "      <th>CandidateId</th>\n",
              "      <th>JobId</th>\n",
              "      <th>Candidate_descr</th>\n",
              "      <th>Jobs_descr</th>\n",
              "      <th>target</th>\n",
              "    </tr>\n",
              "  </thead>\n",
              "  <tbody>\n",
              "    <tr>\n",
              "      <th>0</th>\n",
              "      <td>23669</td>\n",
              "      <td>369</td>\n",
              "      <td>Водитель. мужчина. Гражданство. 37. 0. NaN. Na...</td>\n",
              "      <td>Водитель. Санкт-Петербург.  Требования к опыту...</td>\n",
              "      <td>0.50</td>\n",
              "    </tr>\n",
              "    <tr>\n",
              "      <th>1</th>\n",
              "      <td>23954</td>\n",
              "      <td>369</td>\n",
              "      <td>Водитель. неопределен. NaN. 0. 0. NaN. NaN. Na...</td>\n",
              "      <td>Водитель. Санкт-Петербург.  Требования к опыту...</td>\n",
              "      <td>0.95</td>\n",
              "    </tr>\n",
              "    <tr>\n",
              "      <th>2</th>\n",
              "      <td>23680</td>\n",
              "      <td>369</td>\n",
              "      <td>Водитель. мужчина. Россия. 27. 0. NaN. NaN. Na...</td>\n",
              "      <td>Водитель. Санкт-Петербург.  Требования к опыту...</td>\n",
              "      <td>0.50</td>\n",
              "    </tr>\n",
              "    <tr>\n",
              "      <th>3</th>\n",
              "      <td>23682</td>\n",
              "      <td>369</td>\n",
              "      <td>Водитель. мужчина. Россия. 25. 0. NaN. NaN. Na...</td>\n",
              "      <td>Водитель. Санкт-Петербург.  Требования к опыту...</td>\n",
              "      <td>0.50</td>\n",
              "    </tr>\n",
              "    <tr>\n",
              "      <th>4</th>\n",
              "      <td>23681</td>\n",
              "      <td>369</td>\n",
              "      <td>Водитель. мужчина. Россия. 35. 0. NaN. NaN. Na...</td>\n",
              "      <td>Водитель. Санкт-Петербург.  Требования к опыту...</td>\n",
              "      <td>0.50</td>\n",
              "    </tr>\n",
              "    <tr>\n",
              "      <th>...</th>\n",
              "      <td>...</td>\n",
              "      <td>...</td>\n",
              "      <td>...</td>\n",
              "      <td>...</td>\n",
              "      <td>...</td>\n",
              "    </tr>\n",
              "    <tr>\n",
              "      <th>57353</th>\n",
              "      <td>24191092</td>\n",
              "      <td>370097</td>\n",
              "      <td>Водитель ричтрака (погрузчика) на складе катег...</td>\n",
              "      <td>Водитель погрузчика / штабелера. Москва. Водит...</td>\n",
              "      <td>0.50</td>\n",
              "    </tr>\n",
              "    <tr>\n",
              "      <th>57354</th>\n",
              "      <td>24191343</td>\n",
              "      <td>370097</td>\n",
              "      <td>Водитель погрузчика. мужчина. Россия. 48. 8000...</td>\n",
              "      <td>Водитель погрузчика / штабелера. Москва. Водит...</td>\n",
              "      <td>0.00</td>\n",
              "    </tr>\n",
              "    <tr>\n",
              "      <th>57355</th>\n",
              "      <td>24207766</td>\n",
              "      <td>370097</td>\n",
              "      <td>Кладовщик-комплектовщик. мужчина. Россия. 35. ...</td>\n",
              "      <td>Водитель погрузчика / штабелера. Москва. Водит...</td>\n",
              "      <td>0.70</td>\n",
              "    </tr>\n",
              "    <tr>\n",
              "      <th>57356</th>\n",
              "      <td>24207796</td>\n",
              "      <td>370097</td>\n",
              "      <td>Водитель погрузчика, Штабелера. мужчина. Росси...</td>\n",
              "      <td>Водитель погрузчика / штабелера. Москва. Водит...</td>\n",
              "      <td>0.70</td>\n",
              "    </tr>\n",
              "    <tr>\n",
              "      <th>57357</th>\n",
              "      <td>24228268</td>\n",
              "      <td>370097</td>\n",
              "      <td>Водитель электропогрузчика. мужчина. Россия. 0...</td>\n",
              "      <td>Водитель погрузчика / штабелера. Москва. Водит...</td>\n",
              "      <td>0.70</td>\n",
              "    </tr>\n",
              "  </tbody>\n",
              "</table>\n",
              "<p>57358 rows × 5 columns</p>\n",
              "</div>\n",
              "      <button class=\"colab-df-convert\" onclick=\"convertToInteractive('df-e9761698-b43c-4902-816f-3bf942d1ad13')\"\n",
              "              title=\"Convert this dataframe to an interactive table.\"\n",
              "              style=\"display:none;\">\n",
              "        \n",
              "  <svg xmlns=\"http://www.w3.org/2000/svg\" height=\"24px\"viewBox=\"0 0 24 24\"\n",
              "       width=\"24px\">\n",
              "    <path d=\"M0 0h24v24H0V0z\" fill=\"none\"/>\n",
              "    <path d=\"M18.56 5.44l.94 2.06.94-2.06 2.06-.94-2.06-.94-.94-2.06-.94 2.06-2.06.94zm-11 1L8.5 8.5l.94-2.06 2.06-.94-2.06-.94L8.5 2.5l-.94 2.06-2.06.94zm10 10l.94 2.06.94-2.06 2.06-.94-2.06-.94-.94-2.06-.94 2.06-2.06.94z\"/><path d=\"M17.41 7.96l-1.37-1.37c-.4-.4-.92-.59-1.43-.59-.52 0-1.04.2-1.43.59L10.3 9.45l-7.72 7.72c-.78.78-.78 2.05 0 2.83L4 21.41c.39.39.9.59 1.41.59.51 0 1.02-.2 1.41-.59l7.78-7.78 2.81-2.81c.8-.78.8-2.07 0-2.86zM5.41 20L4 18.59l7.72-7.72 1.47 1.35L5.41 20z\"/>\n",
              "  </svg>\n",
              "      </button>\n",
              "      \n",
              "  <style>\n",
              "    .colab-df-container {\n",
              "      display:flex;\n",
              "      flex-wrap:wrap;\n",
              "      gap: 12px;\n",
              "    }\n",
              "\n",
              "    .colab-df-convert {\n",
              "      background-color: #E8F0FE;\n",
              "      border: none;\n",
              "      border-radius: 50%;\n",
              "      cursor: pointer;\n",
              "      display: none;\n",
              "      fill: #1967D2;\n",
              "      height: 32px;\n",
              "      padding: 0 0 0 0;\n",
              "      width: 32px;\n",
              "    }\n",
              "\n",
              "    .colab-df-convert:hover {\n",
              "      background-color: #E2EBFA;\n",
              "      box-shadow: 0px 1px 2px rgba(60, 64, 67, 0.3), 0px 1px 3px 1px rgba(60, 64, 67, 0.15);\n",
              "      fill: #174EA6;\n",
              "    }\n",
              "\n",
              "    [theme=dark] .colab-df-convert {\n",
              "      background-color: #3B4455;\n",
              "      fill: #D2E3FC;\n",
              "    }\n",
              "\n",
              "    [theme=dark] .colab-df-convert:hover {\n",
              "      background-color: #434B5C;\n",
              "      box-shadow: 0px 1px 3px 1px rgba(0, 0, 0, 0.15);\n",
              "      filter: drop-shadow(0px 1px 2px rgba(0, 0, 0, 0.3));\n",
              "      fill: #FFFFFF;\n",
              "    }\n",
              "  </style>\n",
              "\n",
              "      <script>\n",
              "        const buttonEl =\n",
              "          document.querySelector('#df-e9761698-b43c-4902-816f-3bf942d1ad13 button.colab-df-convert');\n",
              "        buttonEl.style.display =\n",
              "          google.colab.kernel.accessAllowed ? 'block' : 'none';\n",
              "\n",
              "        async function convertToInteractive(key) {\n",
              "          const element = document.querySelector('#df-e9761698-b43c-4902-816f-3bf942d1ad13');\n",
              "          const dataTable =\n",
              "            await google.colab.kernel.invokeFunction('convertToInteractive',\n",
              "                                                     [key], {});\n",
              "          if (!dataTable) return;\n",
              "\n",
              "          const docLinkHtml = 'Like what you see? Visit the ' +\n",
              "            '<a target=\"_blank\" href=https://colab.research.google.com/notebooks/data_table.ipynb>data table notebook</a>'\n",
              "            + ' to learn more about interactive tables.';\n",
              "          element.innerHTML = '';\n",
              "          dataTable['output_type'] = 'display_data';\n",
              "          await google.colab.output.renderOutput(dataTable, element);\n",
              "          const docLink = document.createElement('div');\n",
              "          docLink.innerHTML = docLinkHtml;\n",
              "          element.appendChild(docLink);\n",
              "        }\n",
              "      </script>\n",
              "    </div>\n",
              "  </div>\n",
              "  "
            ]
          },
          "metadata": {},
          "execution_count": 63
        }
      ]
    },
    {
      "cell_type": "code",
      "source": [
        "merged_descriptions_targets_ids.to_csv('preprocess_data.csv')"
      ],
      "metadata": {
        "id": "2z0sLZ2soudt"
      },
      "execution_count": 80,
      "outputs": []
    }
  ]
}