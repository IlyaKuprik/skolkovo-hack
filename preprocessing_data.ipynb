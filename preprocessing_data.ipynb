{
  "metadata": {
    "language_info": {
      "codemirror_mode": {
        "name": "ipython",
        "version": 3
      },
      "file_extension": ".py",
      "mimetype": "text/x-python",
      "name": "python",
      "nbconvert_exporter": "python",
      "pygments_lexer": "ipython3",
      "version": "3.9.0-final"
    },
    "orig_nbformat": 2,
    "kernelspec": {
      "name": "python3",
      "display_name": "Python 3.9.0 64-bit",
      "metadata": {
        "interpreter": {
          "hash": "46b25a7163855ce4118ad0039944c9c51a7ad8d70f6f66a782d5792f5f6962c6"
        }
      }
    },
    "colab": {
      "provenance": [],
      "collapsed_sections": [],
      "toc_visible": true,
      "include_colab_link": true
    }
  },
  "nbformat": 4,
  "nbformat_minor": 0,
  "cells": [
    {
      "cell_type": "markdown",
      "metadata": {
        "id": "view-in-github",
        "colab_type": "text"
      },
      "source": [
        "<a href=\"https://colab.research.google.com/github/IlyaKuprik/skolkovo-hack/blob/main/preprocessing_data.ipynb\" target=\"_parent\"><img src=\"https://colab.research.google.com/assets/colab-badge.svg\" alt=\"Open In Colab\"/></a>"
      ]
    },
    {
      "cell_type": "code",
      "execution_count": 1,
      "metadata": {
        "id": "RqbLwu2IZblF"
      },
      "outputs": [],
      "source": [
        "import numpy as np\n",
        "import pandas as pd"
      ]
    },
    {
      "cell_type": "code",
      "source": [
        "from google.colab import drive\n",
        "drive.mount('/content/drive')"
      ],
      "metadata": {
        "colab": {
          "base_uri": "https://localhost:8080/"
        },
        "id": "QZOoYQQtZ-KN",
        "outputId": "32c30cd7-77e4-49e3-ee6e-6fc08f413d31"
      },
      "execution_count": null,
      "outputs": [
        {
          "output_type": "stream",
          "name": "stdout",
          "text": [
            "Mounted at /content/drive\n"
          ]
        }
      ]
    },
    {
      "cell_type": "markdown",
      "source": [
        "# Process"
      ],
      "metadata": {
        "id": "GP6d9cKh63km"
      }
    },
    {
      "cell_type": "markdown",
      "source": [
        "## загрузка\n"
      ],
      "metadata": {
        "id": "1AjZEdqe7D2v"
      }
    },
    {
      "cell_type": "code",
      "source": [
        "{\"Самоотказ РЦ\": 1, \"Не отвечает\": 0.1, \"Отказ РЦ\": 0, \"Думает РЦ\": 0.3, \"Не пришел\": 0.7, \"Приглашен\": 0.85, \"Отклонен\": 0.5, \"Не пришёл\": 0.8, \n",
        "  \"Назначено собеседование в ресторан\": 0.8, \"Телефонное интервью\": 0.7, \"Пришел\": 0.5, \"Обзвон\": 0.6, \"ОТКАЗ СЦ\": 0.3, \"Отказ кандидата\": 1, \n",
        "  \"Отклик\": 0.9, \"Думает МП\":0.4, \"Расторгнул договор\": 0.15, \"Лендинг\": 0.6, \"Резерв\": 0.5, \"Отказ\": 0.3, 'Вышел на линию': 0.9,\n",
        "  \"Принят на работу\": 0.95, \"Оформлен\": 0.9, \"Неактуально\": 0, \"Отказ компании\": 0, \"Перезаписался\": 0.4, \"Отказался/Нашел работу\": 0.3,\n",
        "  \"Заключил договор\": 0.8, \"Отправлен на СБ\": 0.85, \"Интервью с HR\": 0.85, \"Самоотказ МП\": 0.5, \"Недозвон\": 0.2, \"Отказ по итогам скрининга резюме\": 0,\n",
        "  \"Не прошёл СБ\": 0.5, \"Отказ HR\": 0, \"Резерв РЦ\": 0.2, \"Не пришел (повторно)\": 0.6, \"Интервью\": 0.8, \"Отказ ВВСС (другое)\": 0.2, \"Отказ СБ\": 0.65}"
      ],
      "metadata": {
        "id": "nawquOuIQS2H"
      },
      "execution_count": null,
      "outputs": []
    },
    {
      "cell_type": "code",
      "execution_count": 199,
      "metadata": {
        "id": "suoPjAG3ZblH"
      },
      "outputs": [],
      "source": [
        "data_candidates_work_places = pd.read_csv('/content/drive/MyDrive/hack/data/data_candidates_work_places.csv', sep=';',\n",
        "                                names = ['CandidateId', 'Position','FromYear', 'FromMonth', 'ToYear', 'ToMonth'])"
      ]
    },
    {
      "cell_type": "code",
      "execution_count": 200,
      "metadata": {
        "id": "41zOkeuXZblJ"
      },
      "outputs": [],
      "source": [
        "data_jobs = pd.read_csv('/content/drive/MyDrive/hack/data/data_jobs.csv', sep=';',\n",
        "                                names = ['JobId', 'Status','Name', 'Region', 'Description'])"
      ]
    },
    {
      "cell_type": "code",
      "execution_count": 201,
      "metadata": {
        "id": "Yi69XN8lZblK"
      },
      "outputs": [],
      "source": [
        "data_candidates = pd.read_csv('/content/drive/MyDrive/hack/data/data_candidates.csv', sep=';',\n",
        "                                names = ['CandidateId', 'Position','Sex', 'Citizenship', 'Age',\n",
        "                                'Salary', 'Langs', 'DriverLicense', 'Subway', 'Skills', 'Employment', 'Shedule',                                           \n",
        "                                 'CandidateRegion', 'DateCreated', 'JobId', 'CandidateStatusId', 'Status'])"
      ]
    },
    {
      "cell_type": "code",
      "execution_count": 202,
      "metadata": {
        "id": "uSeaqxyhZblL"
      },
      "outputs": [],
      "source": [
        "data_candidates_education = pd.read_csv('/content/drive/MyDrive/hack/data/data_candidates_education.csv', sep=';',\n",
        "                                names = ['CandidateId', 'University', 'Faculty', 'GraduateYear'])"
      ]
    },
    {
      "cell_type": "code",
      "source": [
        "data_candidates.duplicated(['Position', 'Citizenship', 'DriverLicense', 'Employment', 'Shedule', 'CandidateRegion']).sum()"
      ],
      "metadata": {
        "colab": {
          "base_uri": "https://localhost:8080/"
        },
        "id": "iCXbbHLB9feg",
        "outputId": "f6b62cd9-83f1-4819-e64d-f41c6a85896b"
      },
      "execution_count": 203,
      "outputs": [
        {
          "output_type": "execute_result",
          "data": {
            "text/plain": [
              "128345"
            ]
          },
          "metadata": {},
          "execution_count": 203
        }
      ]
    },
    {
      "cell_type": "markdown",
      "source": [
        "## Обработка таблицы"
      ],
      "metadata": {
        "id": "uAmpyIMC7UHn"
      }
    },
    {
      "cell_type": "code",
      "source": [
        "import re\n",
        " \n",
        "CLEANR = re.compile('<.*?>|&([a-z0-9]+|#[0-9]{1,6}|#x[0-9a-f]{1,6});|-|/|;|_|•')\n",
        " \n",
        "def cleanhtml(raw_html):\n",
        "    if type(raw_html) == type(''):\n",
        "        return re.sub(CLEANR, '', raw_html)\n",
        "    return raw_html\n",
        " \n",
        "data_jobs.Description = data_jobs.Description.apply(cleanhtml)"
      ],
      "metadata": {
        "id": "6fMNGsu7Y-NR"
      },
      "execution_count": 204,
      "outputs": []
    },
    {
      "cell_type": "code",
      "source": [
        "cols_val = {str(i): 'last' for i in data_candidates.columns}"
      ],
      "metadata": {
        "id": "EqC0TcQRSKVs"
      },
      "execution_count": 205,
      "outputs": []
    },
    {
      "cell_type": "code",
      "source": [
        "grouped_with_last_status = data_candidates.sort_values(by = 'DateCreated').loc[:,data_candidates.columns]\\\n",
        ".groupby(by = ['CandidateId','JobId'], axis = 0, sort = False, as_index = False).agg( cols_val)"
      ],
      "metadata": {
        "id": "IS1SbTb37bpf"
      },
      "execution_count": 206,
      "outputs": []
    },
    {
      "cell_type": "markdown",
      "source": [
        "### Штрафы"
      ],
      "metadata": {
        "id": "quI945HEuYAu"
      }
    },
    {
      "cell_type": "code",
      "source": [
        "target_map = {\"Самоотказ РЦ\": 1, \"Не отвечает\": 0.1, \"Отказ РЦ\": 0, \"Думает РЦ\": 0.3, \"Не пришел\": 0.7, \"Приглашен\": 0.85, \"Отклонен\": 0.5, \"Не пришёл\": 0.8, \n",
        "  \"Назначено собеседование в ресторан\": 0.8, \"Телефонное интервью\": 0.7, \"Пришел\": 0.5, \"Обзвон\": 0.6, \"ОТКАЗ СЦ\": 0.3, \"Отказ кандидата\": 1, \n",
        "  \"Отклик\": 0.9, \"Думает МП\":0.4, \"Расторгнул договор\": 0.15, \"Лендинг\": 0.6, \"Резерв\": 0.5, \"Отказ\": 0.3, 'Вышел на линию': 0.9,\n",
        "  \"Принят на работу\": 0.95, \"Оформлен\": 0.9, \"Неактуально\": 0, \"Отказ компании\": 0, \"Перезаписался\": 0.4, \"Отказался/Нашел работу\": 0.3,\n",
        "  \"Заключил договор\": 0.8, \"Отправлен на СБ\": 0.85, \"Интервью с HR\": 0.85, \"Самоотказ МП\": 0.5, \"Недозвон\": 0.2, \"Отказ по итогам скрининга резюме\": 0,\n",
        "  \"Не прошёл СБ\": 0.5, \"Отказ HR\": 0, \"Резерв РЦ\": 0.2, \"Не пришел (повторно)\": 0.6, \"Интервью\": 0.8, \"Отказ ВВСС (другое)\": 0.2, \"Отказ СБ\": 0.65}"
      ],
      "metadata": {
        "id": "qBNgo7ZbyLk9"
      },
      "execution_count": 207,
      "outputs": []
    },
    {
      "cell_type": "code",
      "source": [
        "targets = grouped_with_last_status['Status'].apply(lambda x: target_map[x] if x in target_map else np.NaN) ## Заполнили NA\n",
        "grouped_with_ids_target = grouped_with_last_status.loc[:, ['CandidateId', 'JobId',]]\n",
        "grouped_with_ids_target['target'] = targets"
      ],
      "metadata": {
        "id": "pXUXQzZ6Z_uK"
      },
      "execution_count": 208,
      "outputs": []
    },
    {
      "cell_type": "code",
      "source": [
        "#Инициализация штрафов\n",
        "\n",
        "number_fields = ['Age', 'Salary']\n",
        "string_fields = ['Position', 'Citizenship', 'Langs',\\\n",
        "                  'Skills', 'Employment', 'Shedule', 'CandidateRegion']\n",
        "fines_vector = [1/9]*9 "
      ],
      "metadata": {
        "id": "eBFqmjMwuf5v"
      },
      "execution_count": 209,
      "outputs": []
    },
    {
      "cell_type": "code",
      "source": [
        "\n",
        "mask_df = grouped_with_last_status.copy()\n",
        "mask_df[number_fields] = grouped_with_last_status[number_fields].apply(lambda x: x == 0)\n",
        "mask_df[string_fields] = grouped_with_last_status[string_fields].apply(lambda x: x.isna())\n",
        "\n",
        "total_fine = mask_df[number_fields + string_fields].apply(lambda x: 1 - (np.array(x) * np.array(fines_vector)).sum(), axis = 1)\n",
        "total_target = targets*total_fine\n",
        "grouped_with_ids_target['target'] = total_target"
      ],
      "metadata": {
        "id": "sLxgskO5wqj5"
      },
      "execution_count": 210,
      "outputs": []
    },
    {
      "cell_type": "code",
      "source": [],
      "metadata": {
        "id": "6jbpUtjMDbym"
      },
      "execution_count": null,
      "outputs": []
    },
    {
      "cell_type": "markdown",
      "source": [
        "## Driver license"
      ],
      "metadata": {
        "id": "uomGbiCEDcgi"
      }
    },
    {
      "cell_type": "code",
      "source": [
        "def del_sep(text):\n",
        "    if type(text) == type(''):\n",
        "        return ''.join(text.split(','))\n",
        "    return text\n",
        "\n",
        "data_candidates.DriverLicense = data_candidates.DriverLicense.apply(del_sep)\n",
        "data_candidates.DriverLicense.isna().sum()"
      ],
      "metadata": {
        "colab": {
          "base_uri": "https://localhost:8080/"
        },
        "id": "yelhe6CyDjOH",
        "outputId": "a4fc5328-1ab2-4621-b01d-aa2c1185ec7c"
      },
      "execution_count": 211,
      "outputs": [
        {
          "output_type": "execute_result",
          "data": {
            "text/plain": [
              "93730"
            ]
          },
          "metadata": {},
          "execution_count": 211
        }
      ]
    },
    {
      "cell_type": "code",
      "source": [
        "\n",
        "# for i, row in data_candidates.iterrows():\n",
        "#     if type(row.DriverLicense) != type('') and type(row.Position) == type(''):\n",
        "#         if np.isnan(row.DriverLicense):\n",
        "#             Flag = False\n",
        "#             if 'водитель' in row.Position.lower():\n",
        "#                 if not Flag:\n",
        "#                     data_candidates.iloc[i, 7] = 'B'\n",
        "#                     Flag = True\n",
        "#             if 'грузового' in row.Position.lower() or 'грузовой' in row.Position.lower():\n",
        "#                 if not Flag:\n",
        "#                     data_candidates.iloc[i, 7] = 'C'\n",
        "#                     Flag = True\n",
        "#                 else:\n",
        "#                     data_candidates.iloc[i, 7] += 'C'\n",
        "#             if Flag == False:\n",
        "#                 data_candidates.iloc[i, 7] = 'N'\n",
        "# data_candidates.DriverLicense.isna().sum()"
      ],
      "metadata": {
        "id": "AF_a4SQCDla_"
      },
      "execution_count": 212,
      "outputs": []
    },
    {
      "cell_type": "markdown",
      "source": [
        "## citizenship"
      ],
      "metadata": {
        "id": "ADrSFRkfD1u4"
      }
    },
    {
      "cell_type": "code",
      "source": [
        "data_candidates.Citizenship"
      ],
      "metadata": {
        "id": "qjs54lhsIJKL"
      },
      "execution_count": null,
      "outputs": []
    },
    {
      "cell_type": "code",
      "source": [
        "data_candidates.Citizenship.apply()"
      ],
      "metadata": {
        "id": "szV7immV5Pln"
      },
      "execution_count": null,
      "outputs": []
    },
    {
      "cell_type": "code",
      "source": [
        "data_candidates.Citizenship.apply(lambda x: 'Россия' if 'рос' in x.lower() or 'рф' in x.lower() or 'rus' in x.lower()\\\n",
        "                                  else 'Киргизия' if x.lower().startswith('к')\\\n",
        "                                  else 'Армения' if x.lower().startswith('а')\\\n",
        "                                  else 'Узбекистан' if x.lower().startswith('у')\n",
        "                                  else 'Таджикистан')"
      ],
      "metadata": {
        "id": "XJBffHQEF2rY"
      },
      "execution_count": null,
      "outputs": []
    },
    {
      "cell_type": "code",
      "source": [
        "for i, row in data_candidates.iterrows():\n",
        "    if type(row.Citizenship) == type(''):\n",
        "        if 'рос' in row.Citizenship.lower() or 'рф' in row.Citizenship.lower() or 'rus' in row.Citizenship.lower():\n",
        "            data_candidates.iloc[i, 3] = 'Россия'\n",
        "        if row.Citizenship.lower().startswith('к'):\n",
        "            data_candidates.iloc[i, 3] = 'Киргизия'\n",
        "        if row.Citizenship.lower().startswith('а'):\n",
        "            data_candidates.iloc[i, 3] = 'Армения'\n",
        "        if row.Citizenship.lower().startswith('у'):\n",
        "            data_candidates.iloc[i, 3] = 'Узбекистан'\n",
        "        if row.Citizenship.lower().startswith('т'):\n",
        "            data_candidates.iloc[i, 3] = 'Таджикистан'"
      ],
      "metadata": {
        "id": "iz4XrwnhD4X_"
      },
      "execution_count": null,
      "outputs": []
    },
    {
      "cell_type": "markdown",
      "source": [
        "## Skills"
      ],
      "metadata": {
        "id": "Dzovh_oDD7Cb"
      }
    },
    {
      "cell_type": "code",
      "source": [
        "def del_stick(text):\n",
        "    if type(text) == type(''):\n",
        "        return ''.join(text.split('||'))\n",
        "    return text\n",
        "\n",
        "\n",
        "data_candidates.Skills = data_candidates.Skills.apply(del_stick)"
      ],
      "metadata": {
        "id": "-oTFj7A7D9Wh"
      },
      "execution_count": 214,
      "outputs": []
    },
    {
      "cell_type": "markdown",
      "source": [
        "### Обработка текста"
      ],
      "metadata": {
        "id": "y4EqNLNsugIc"
      }
    },
    {
      "cell_type": "code",
      "source": [
        "grouped_table_candidates_features = grouped_with_last_status.drop(columns = ['Status', 'CandidateStatusId'])"
      ],
      "metadata": {
        "id": "Rf7dVxIST3tW"
      },
      "execution_count": 215,
      "outputs": []
    },
    {
      "cell_type": "code",
      "source": [
        "grouped_table_candidates_features"
      ],
      "metadata": {
        "id": "tbmulKRWq4JD"
      },
      "execution_count": null,
      "outputs": []
    },
    {
      "cell_type": "code",
      "source": [
        "candidates_work_places_concat = data_candidates_work_places.drop_duplicates(['CandidateId', 'Position'])\n",
        "candidates_work_places_concat.Position = candidates_work_places_concat.Position.add(' ')\n",
        "candidates_work_places_concat = candidates_work_places_concat.groupby('CandidateId', as_index=False).agg(Position_last_work = ('Position' , 'sum'))\n",
        "candidates_work_places_concat"
      ],
      "metadata": {
        "id": "vRtWvh046tKU"
      },
      "execution_count": null,
      "outputs": []
    },
    {
      "cell_type": "code",
      "source": [
        "new_df = grouped_table_candidates_features\\\n",
        "    .merge(candidates_work_places_concat, on='CandidateId', how='left')\\\n",
        "    .merge(data_candidates_education.drop_duplicates('CandidateId'), on='CandidateId', how='left')"
      ],
      "metadata": {
        "id": "_qamaYFuC7JG"
      },
      "execution_count": 217,
      "outputs": []
    },
    {
      "cell_type": "code",
      "source": [
        "new_df = new_df.drop_duplicates(['Position', 'Citizenship', 'DriverLicense',\\\n",
        "                        'Employment', 'Shedule', 'CandidateRegion',\\\n",
        "                        'Position_last_work', 'University', 'Faculty' ])"
      ],
      "metadata": {
        "id": "PS7tLF9LC8Xa"
      },
      "execution_count": 218,
      "outputs": []
    },
    {
      "cell_type": "code",
      "source": [
        "new_df"
      ],
      "metadata": {
        "id": "1V-zWdzdGYe1"
      },
      "execution_count": null,
      "outputs": []
    },
    {
      "cell_type": "code",
      "source": [
        "\n",
        "new_df.index = [new_df.CandidateId, new_df.JobId]\n",
        "df = new_df.drop(columns=['JobId', 'CandidateId', 'Salary', 'Subway',\n",
        "                          'Age', 'GraduateYear', 'DateCreated'])\n",
        "df.Sex = df.Sex\\\n",
        "    .where(~(df.Sex == 2), other='мужчина')\\\n",
        "    .where(~(df.Sex == 1), other='женщина')\\\n",
        "    .where(~(df.Sex == 0), other='неопределен')\n",
        "df = df.fillna('NaN').astype(str).add('. ').sum(axis=1).reset_index()\n",
        " \n",
        "status_jobs = pd.DataFrame([[1, 'открытая'], [2, 'закрытая'], [3, 'приостановленная'], [4, 'отменена'], [5, 'черновик']],\n",
        "                          columns = ['Status', 'name_status'])\n",
        "new_data_jobs = data_jobs\\\n",
        "    .merge(status_jobs, on='Status')\n",
        "new_data_jobs.index = new_data_jobs.JobId\n",
        "job_user_tokens1 = new_data_jobs\\\n",
        "    .drop(columns=['Status', 'JobId'])\\\n",
        "    .fillna('NaN')\\\n",
        "    .astype(str)\\\n",
        "    .add('. ')\\\n",
        "    .sum(axis=1)\\\n",
        "    .reset_index()\n",
        " \n",
        "job_user_tokens2 = df\n",
        "job_user_tokens_with_id = job_user_tokens2\\\n",
        "    .merge(job_user_tokens1, on='JobId')\n",
        " "
      ],
      "metadata": {
        "id": "9qb-8PWUZCwI"
      },
      "execution_count": 219,
      "outputs": []
    },
    {
      "cell_type": "code",
      "source": [
        "merged_descriptions_targets_ids = job_user_tokens_with_id.merge(grouped_with_ids_target, on = ['JobId', 'CandidateId'], how = 'inner')\n",
        "merged_descriptions_targets_ids.columns = [\"CandidateId\", \"JobId\", \"Candidate_descr\", \"Jobs_descr\", \"target\"]\n",
        "merged_descriptions_targets_ids = merged_descriptions_targets_ids[~(merged_descriptions_targets_ids.target.isna())]"
      ],
      "metadata": {
        "id": "XvuZ6F-SUNyX"
      },
      "execution_count": 220,
      "outputs": []
    },
    {
      "cell_type": "code",
      "source": [
        "# merged_descriptions_targets_ids = job_user_tokens_with_id.merge(grouped_with_ids_target, on = ['JobId', 'CandidateId'], how = 'inner')\n",
        "# merged_descriptions_targets_ids.columns = [\"CandidateId\", \"JobId\", \"Candidate_descr\", \"Jobs_descr\", \"target\"]\n",
        "# merged_descriptions_targets_ids.isna().sum()\n",
        "# merged_descriptions_targets_ids = merged_descriptions_targets_ids.fillna(1/2)"
      ],
      "metadata": {
        "id": "Z8OpEUO0ZhlQ"
      },
      "execution_count": null,
      "outputs": []
    },
    {
      "cell_type": "code",
      "source": [
        "merged_descriptions_targets_ids.drop(columns = ['CandidateId', 'JobId'], inplace = True)"
      ],
      "metadata": {
        "id": "ggTzWnlQrXm1"
      },
      "execution_count": 221,
      "outputs": []
    },
    {
      "cell_type": "code",
      "source": [
        "merged_descriptions_targets_ids.drop_duplicates(['Candidate_descr', 'Jobs_descr'])"
      ],
      "metadata": {
        "colab": {
          "base_uri": "https://localhost:8080/",
          "height": 424
        },
        "id": "h-6j9UH5NNDh",
        "outputId": "480c9d6c-7de3-406d-bd46-9abaa4869070"
      },
      "execution_count": 224,
      "outputs": [
        {
          "output_type": "execute_result",
          "data": {
            "text/plain": [
              "                                         Candidate_descr  \\\n",
              "0      Водитель. мужчина. Гражданство. NaN. NaN. NaN....   \n",
              "1      Водитель. неопределен. NaN. NaN. NaN. NaN. Ful...   \n",
              "2      Водитель. мужчина. Россия. NaN. NaN. NaN. Full...   \n",
              "3      Водитель. мужчина. Россия. NaN. NaN. NaN. Full...   \n",
              "4      Водитель. мужчина. Россия. NaN. NaN. NaN. Full...   \n",
              "...                                                  ...   \n",
              "24171  водитель курьер на авто . мужчина. 89262820275...   \n",
              "24175  Водитель погрузчика. мужчина. Россия. русский:...   \n",
              "24176  Кладовщик-комплектовщик. мужчина. Россия. русс...   \n",
              "24177  Водитель погрузчика, Штабелера. мужчина. Росси...   \n",
              "24178  Водитель электропогрузчика. мужчина. Россия. р...   \n",
              "\n",
              "                                              Jobs_descr    target  \n",
              "0      Водитель. Санкт-Петербург.  Требования к опыту...  0.277778  \n",
              "1      Водитель. Санкт-Петербург.  Требования к опыту...  0.316667  \n",
              "2      Водитель. Санкт-Петербург.  Требования к опыту...  0.277778  \n",
              "3      Водитель. Санкт-Петербург.  Требования к опыту...  0.277778  \n",
              "4      Водитель. Санкт-Петербург.  Требования к опыту...  0.277778  \n",
              "...                                                  ...       ...  \n",
              "24171  Водитель на авто компании . Москва. NaN. откры...  0.444444  \n",
              "24175  Водитель погрузчика / штабелера. Москва. Водит...  0.000000  \n",
              "24176  Водитель погрузчика / штабелера. Москва. Водит...  0.700000  \n",
              "24177  Водитель погрузчика / штабелера. Москва. Водит...  0.622222  \n",
              "24178  Водитель погрузчика / штабелера. Москва. Водит...  0.622222  \n",
              "\n",
              "[21693 rows x 3 columns]"
            ],
            "text/html": [
              "\n",
              "  <div id=\"df-861c03f4-2c88-49f9-9bd4-8067167a3bd9\">\n",
              "    <div class=\"colab-df-container\">\n",
              "      <div>\n",
              "<style scoped>\n",
              "    .dataframe tbody tr th:only-of-type {\n",
              "        vertical-align: middle;\n",
              "    }\n",
              "\n",
              "    .dataframe tbody tr th {\n",
              "        vertical-align: top;\n",
              "    }\n",
              "\n",
              "    .dataframe thead th {\n",
              "        text-align: right;\n",
              "    }\n",
              "</style>\n",
              "<table border=\"1\" class=\"dataframe\">\n",
              "  <thead>\n",
              "    <tr style=\"text-align: right;\">\n",
              "      <th></th>\n",
              "      <th>Candidate_descr</th>\n",
              "      <th>Jobs_descr</th>\n",
              "      <th>target</th>\n",
              "    </tr>\n",
              "  </thead>\n",
              "  <tbody>\n",
              "    <tr>\n",
              "      <th>0</th>\n",
              "      <td>Водитель. мужчина. Гражданство. NaN. NaN. NaN....</td>\n",
              "      <td>Водитель. Санкт-Петербург.  Требования к опыту...</td>\n",
              "      <td>0.277778</td>\n",
              "    </tr>\n",
              "    <tr>\n",
              "      <th>1</th>\n",
              "      <td>Водитель. неопределен. NaN. NaN. NaN. NaN. Ful...</td>\n",
              "      <td>Водитель. Санкт-Петербург.  Требования к опыту...</td>\n",
              "      <td>0.316667</td>\n",
              "    </tr>\n",
              "    <tr>\n",
              "      <th>2</th>\n",
              "      <td>Водитель. мужчина. Россия. NaN. NaN. NaN. Full...</td>\n",
              "      <td>Водитель. Санкт-Петербург.  Требования к опыту...</td>\n",
              "      <td>0.277778</td>\n",
              "    </tr>\n",
              "    <tr>\n",
              "      <th>3</th>\n",
              "      <td>Водитель. мужчина. Россия. NaN. NaN. NaN. Full...</td>\n",
              "      <td>Водитель. Санкт-Петербург.  Требования к опыту...</td>\n",
              "      <td>0.277778</td>\n",
              "    </tr>\n",
              "    <tr>\n",
              "      <th>4</th>\n",
              "      <td>Водитель. мужчина. Россия. NaN. NaN. NaN. Full...</td>\n",
              "      <td>Водитель. Санкт-Петербург.  Требования к опыту...</td>\n",
              "      <td>0.277778</td>\n",
              "    </tr>\n",
              "    <tr>\n",
              "      <th>...</th>\n",
              "      <td>...</td>\n",
              "      <td>...</td>\n",
              "      <td>...</td>\n",
              "    </tr>\n",
              "    <tr>\n",
              "      <th>24171</th>\n",
              "      <td>водитель курьер на авто . мужчина. 89262820275...</td>\n",
              "      <td>Водитель на авто компании . Москва. NaN. откры...</td>\n",
              "      <td>0.444444</td>\n",
              "    </tr>\n",
              "    <tr>\n",
              "      <th>24175</th>\n",
              "      <td>Водитель погрузчика. мужчина. Россия. русский:...</td>\n",
              "      <td>Водитель погрузчика / штабелера. Москва. Водит...</td>\n",
              "      <td>0.000000</td>\n",
              "    </tr>\n",
              "    <tr>\n",
              "      <th>24176</th>\n",
              "      <td>Кладовщик-комплектовщик. мужчина. Россия. русс...</td>\n",
              "      <td>Водитель погрузчика / штабелера. Москва. Водит...</td>\n",
              "      <td>0.700000</td>\n",
              "    </tr>\n",
              "    <tr>\n",
              "      <th>24177</th>\n",
              "      <td>Водитель погрузчика, Штабелера. мужчина. Росси...</td>\n",
              "      <td>Водитель погрузчика / штабелера. Москва. Водит...</td>\n",
              "      <td>0.622222</td>\n",
              "    </tr>\n",
              "    <tr>\n",
              "      <th>24178</th>\n",
              "      <td>Водитель электропогрузчика. мужчина. Россия. р...</td>\n",
              "      <td>Водитель погрузчика / штабелера. Москва. Водит...</td>\n",
              "      <td>0.622222</td>\n",
              "    </tr>\n",
              "  </tbody>\n",
              "</table>\n",
              "<p>21693 rows × 3 columns</p>\n",
              "</div>\n",
              "      <button class=\"colab-df-convert\" onclick=\"convertToInteractive('df-861c03f4-2c88-49f9-9bd4-8067167a3bd9')\"\n",
              "              title=\"Convert this dataframe to an interactive table.\"\n",
              "              style=\"display:none;\">\n",
              "        \n",
              "  <svg xmlns=\"http://www.w3.org/2000/svg\" height=\"24px\"viewBox=\"0 0 24 24\"\n",
              "       width=\"24px\">\n",
              "    <path d=\"M0 0h24v24H0V0z\" fill=\"none\"/>\n",
              "    <path d=\"M18.56 5.44l.94 2.06.94-2.06 2.06-.94-2.06-.94-.94-2.06-.94 2.06-2.06.94zm-11 1L8.5 8.5l.94-2.06 2.06-.94-2.06-.94L8.5 2.5l-.94 2.06-2.06.94zm10 10l.94 2.06.94-2.06 2.06-.94-2.06-.94-.94-2.06-.94 2.06-2.06.94z\"/><path d=\"M17.41 7.96l-1.37-1.37c-.4-.4-.92-.59-1.43-.59-.52 0-1.04.2-1.43.59L10.3 9.45l-7.72 7.72c-.78.78-.78 2.05 0 2.83L4 21.41c.39.39.9.59 1.41.59.51 0 1.02-.2 1.41-.59l7.78-7.78 2.81-2.81c.8-.78.8-2.07 0-2.86zM5.41 20L4 18.59l7.72-7.72 1.47 1.35L5.41 20z\"/>\n",
              "  </svg>\n",
              "      </button>\n",
              "      \n",
              "  <style>\n",
              "    .colab-df-container {\n",
              "      display:flex;\n",
              "      flex-wrap:wrap;\n",
              "      gap: 12px;\n",
              "    }\n",
              "\n",
              "    .colab-df-convert {\n",
              "      background-color: #E8F0FE;\n",
              "      border: none;\n",
              "      border-radius: 50%;\n",
              "      cursor: pointer;\n",
              "      display: none;\n",
              "      fill: #1967D2;\n",
              "      height: 32px;\n",
              "      padding: 0 0 0 0;\n",
              "      width: 32px;\n",
              "    }\n",
              "\n",
              "    .colab-df-convert:hover {\n",
              "      background-color: #E2EBFA;\n",
              "      box-shadow: 0px 1px 2px rgba(60, 64, 67, 0.3), 0px 1px 3px 1px rgba(60, 64, 67, 0.15);\n",
              "      fill: #174EA6;\n",
              "    }\n",
              "\n",
              "    [theme=dark] .colab-df-convert {\n",
              "      background-color: #3B4455;\n",
              "      fill: #D2E3FC;\n",
              "    }\n",
              "\n",
              "    [theme=dark] .colab-df-convert:hover {\n",
              "      background-color: #434B5C;\n",
              "      box-shadow: 0px 1px 3px 1px rgba(0, 0, 0, 0.15);\n",
              "      filter: drop-shadow(0px 1px 2px rgba(0, 0, 0, 0.3));\n",
              "      fill: #FFFFFF;\n",
              "    }\n",
              "  </style>\n",
              "\n",
              "      <script>\n",
              "        const buttonEl =\n",
              "          document.querySelector('#df-861c03f4-2c88-49f9-9bd4-8067167a3bd9 button.colab-df-convert');\n",
              "        buttonEl.style.display =\n",
              "          google.colab.kernel.accessAllowed ? 'block' : 'none';\n",
              "\n",
              "        async function convertToInteractive(key) {\n",
              "          const element = document.querySelector('#df-861c03f4-2c88-49f9-9bd4-8067167a3bd9');\n",
              "          const dataTable =\n",
              "            await google.colab.kernel.invokeFunction('convertToInteractive',\n",
              "                                                     [key], {});\n",
              "          if (!dataTable) return;\n",
              "\n",
              "          const docLinkHtml = 'Like what you see? Visit the ' +\n",
              "            '<a target=\"_blank\" href=https://colab.research.google.com/notebooks/data_table.ipynb>data table notebook</a>'\n",
              "            + ' to learn more about interactive tables.';\n",
              "          element.innerHTML = '';\n",
              "          dataTable['output_type'] = 'display_data';\n",
              "          await google.colab.output.renderOutput(dataTable, element);\n",
              "          const docLink = document.createElement('div');\n",
              "          docLink.innerHTML = docLinkHtml;\n",
              "          element.appendChild(docLink);\n",
              "        }\n",
              "      </script>\n",
              "    </div>\n",
              "  </div>\n",
              "  "
            ]
          },
          "metadata": {},
          "execution_count": 224
        }
      ]
    },
    {
      "cell_type": "code",
      "source": [
        "merged_descriptions_targets_ids = merged_descriptions_targets_ids.drop_duplicates(['Candidate_descr', 'Jobs_descr'])"
      ],
      "metadata": {
        "id": "y4QUc25Z3DSx"
      },
      "execution_count": 225,
      "outputs": []
    },
    {
      "cell_type": "code",
      "source": [
        "merged_descriptions_targets_ids.to_csv('preprocess_data.csv')"
      ],
      "metadata": {
        "id": "2z0sLZ2soudt"
      },
      "execution_count": 226,
      "outputs": []
    },
    {
      "cell_type": "markdown",
      "source": [
        "# Обработка теста\n"
      ],
      "metadata": {
        "id": "EHPBj1_mMBbB"
      }
    },
    {
      "cell_type": "code",
      "source": [
        "test_candidates = pd.read_csv('/content/drive/MyDrive/hack/data/test/test_candidates.csv', sep = ';')"
      ],
      "metadata": {
        "id": "n-UE4TLaMEmT"
      },
      "execution_count": 111,
      "outputs": []
    },
    {
      "cell_type": "code",
      "source": [
        "test_jobs = pd.read_csv('/content/drive/MyDrive/hack/data/test/test_jobs.csv', sep = ';',\\\n",
        "                        names = ['JobId', 'Status','Name', 'Region', 'Description', 'x', 'y','z'])\n",
        "test_jobs.drop(columns = ['x', 'y','z'], inplace = True)"
      ],
      "metadata": {
        "id": "hWNVJjHvMfRm"
      },
      "execution_count": 112,
      "outputs": []
    },
    {
      "cell_type": "code",
      "source": [
        "test_candidates_education = pd.read_csv('/content/drive/MyDrive/hack/data/test/test_candidates_education.csv', sep=';')"
      ],
      "metadata": {
        "id": "_W3-eMA-P7Nd"
      },
      "execution_count": 113,
      "outputs": []
    },
    {
      "cell_type": "code",
      "source": [
        "test_candidates_workplaces = pd.read_csv('/content/drive/MyDrive/hack/data/test/test_candidates_workplaces.csv', sep = ';')"
      ],
      "metadata": {
        "id": "B-xZ1xh35jRR"
      },
      "execution_count": 114,
      "outputs": []
    },
    {
      "cell_type": "markdown",
      "source": [
        "## Обработка Жопы"
      ],
      "metadata": {
        "id": "WlhrEJY1P8sU"
      }
    },
    {
      "cell_type": "code",
      "source": [
        "import re\n",
        " \n",
        "CLEANR = re.compile('<.*?>|&([a-z0-9]+|#[0-9]{1,6}|#x[0-9a-f]{1,6});|-|/|;|_|•')\n",
        " \n",
        "def cleanhtml(raw_html):\n",
        "    if type(raw_html) == type(''):\n",
        "        return re.sub(CLEANR, '', raw_html)\n",
        "    return raw_html\n",
        " \n",
        "test_jobs.Description = test_jobs.Description.apply(cleanhtml)"
      ],
      "metadata": {
        "id": "gMdwpLxOQAoi"
      },
      "execution_count": 115,
      "outputs": []
    },
    {
      "cell_type": "code",
      "source": [
        "status_jobs = pd.DataFrame([[1, 'открытая'], [2, 'закрытая'], [3, 'приостановленная'], [4, 'отменена'], [5, 'черновик']],\n",
        "                          columns = ['Status', 'name_status'])\n",
        "new_data_jobs = test_jobs\\\n",
        "    .merge(status_jobs, on='Status')\n",
        "new_data_jobs.index = new_data_jobs.JobId\n",
        "job_user_tokens1 = new_data_jobs\\\n",
        "    .drop(columns=['Status', 'JobId'])\\\n",
        "    .fillna('NaN')\\\n",
        "    .astype(str)\\\n",
        "    .add('. ')\\\n",
        "    .sum(axis=1)\\\n",
        "    .reset_index()"
      ],
      "metadata": {
        "id": "vqWpVLPNQdkI"
      },
      "execution_count": 116,
      "outputs": []
    },
    {
      "cell_type": "markdown",
      "source": [
        "## Обработка бывшего места работы"
      ],
      "metadata": {
        "id": "UY1angxC6G9M"
      }
    },
    {
      "cell_type": "code",
      "source": [
        "candidates_work_places_concat = test_candidates_workplaces.drop_duplicates(['CandidateId', 'Position'])\n",
        "candidates_work_places_concat.Position = candidates_work_places_concat.Position.add(' ')\n",
        "candidates_work_places_concat = candidates_work_places_concat.groupby('CandidateId', as_index=False).agg({'Position' : 'sum'})\n",
        "candidates_work_places_concat"
      ],
      "metadata": {
        "id": "eWfFjudO8evM"
      },
      "execution_count": null,
      "outputs": []
    },
    {
      "cell_type": "markdown",
      "source": [
        "## Обработка кандидата"
      ],
      "metadata": {
        "id": "bWgY1nCzRR0q"
      }
    },
    {
      "cell_type": "code",
      "source": [
        "def del_sep(text):\n",
        "    if type(text) == type(''):\n",
        "        return ''.join(text.split(','))\n",
        "    return text\n",
        "\n",
        "test_candidates.DriverLicense = test_candidates.DriverLicense.apply(del_sep)\n",
        "test_candidates.DriverLicense.isna().sum()"
      ],
      "metadata": {
        "colab": {
          "base_uri": "https://localhost:8080/"
        },
        "id": "za2PUrgqRVc2",
        "outputId": "976067bf-7097-4feb-e9cf-9025f8005541"
      },
      "execution_count": 118,
      "outputs": [
        {
          "output_type": "execute_result",
          "data": {
            "text/plain": [
              "90"
            ]
          },
          "metadata": {},
          "execution_count": 118
        }
      ]
    },
    {
      "cell_type": "code",
      "source": [
        "def del_stick(text):\n",
        "    if type(text) == type(''):\n",
        "        return ''.join(text.split('||'))\n",
        "    return text\n",
        "\n",
        "\n",
        "test_candidates.Skills = test_candidates.Skills.apply(del_stick)"
      ],
      "metadata": {
        "id": "AhzBteqBSNGf"
      },
      "execution_count": 119,
      "outputs": []
    },
    {
      "cell_type": "code",
      "source": [
        "new_df = test_candidates\\\n",
        "    .merge(candidates_work_places_concat, on='CandidateId', how='left')\\\n",
        "    .merge(test_candidates_education.drop_duplicates('CandidateId'), on='CandidateId', how='left')\n",
        "new_df.index = new_df.CandidateId\n",
        "df = new_df.drop(columns=['CandidateId', 'Salary', 'Subway',\n",
        "                          'Age', 'GraduateYear'])\n",
        "df.Sex = df.Sex\\\n",
        "    .where(~(df.Sex == 2), other='мужчина')\\\n",
        "    .where(~(df.Sex == 1), other='женщина')\\\n",
        "    .where(~(df.Sex == 0), other='неопределен')\n",
        "df = df.fillna('NaN').astype(str).add('. ').sum(axis=1).reset_index()\n",
        "\n",
        "job_user_tokens2 = df"
      ],
      "metadata": {
        "id": "VSa1SaVPSZlL"
      },
      "execution_count": 120,
      "outputs": []
    },
    {
      "cell_type": "code",
      "source": [
        "job_user_tokens2 = job_user_tokens2.rename(columns = {0: 'Candidate_descr'})\n",
        "job_user_tokens1 = job_user_tokens1.rename(columns = {0: 'Jobs_descr'})\n",
        "job_user_tokens2.drop(columns = ['CandidateId'], inplace = True)\n",
        "job_user_tokens1.drop(columns = ['JobId'], inplace = True)\n",
        "\n"
      ],
      "metadata": {
        "id": "OkUahWdrV-nt"
      },
      "execution_count": 121,
      "outputs": []
    },
    {
      "cell_type": "code",
      "source": [
        "job_user_tokens1"
      ],
      "metadata": {
        "colab": {
          "base_uri": "https://localhost:8080/",
          "height": 362
        },
        "id": "73eg1IQpWGXh",
        "outputId": "64e50c59-2c79-4aa4-8898-0e22df22b9dc"
      },
      "execution_count": 125,
      "outputs": [
        {
          "output_type": "execute_result",
          "data": {
            "text/plain": [
              "                                          Jobs_descr\n",
              "0  Водитель автомобиля большегруза с прицепом . С...\n",
              "1  водитель на своем авто . Москва. Начался сезон...\n",
              "2  Водитель на своем авто. Москва. Стаж вождения ...\n",
              "3  Водитель. Санкт-Петербург. Обязанности:Качеств...\n",
              "4  водитель на личном авто. Москва. ищем курьера ...\n",
              "5  Водитель-экспедитор 1/ Водитель. Москва. Обяза...\n",
              "6  водитель курьер на авто компании. Москва. води...\n",
              "7  Менеджер по продажам. Санкт-Петербург. Обязанн...\n",
              "8  Водитель-экспедитор. Москва. ЗАДАЧИ:  Доставка...\n",
              "9  Водитель. Москва. Наш клиент, крупный холдинг ..."
            ],
            "text/html": [
              "\n",
              "  <div id=\"df-afb406a2-446d-4249-926e-aa2d48451615\">\n",
              "    <div class=\"colab-df-container\">\n",
              "      <div>\n",
              "<style scoped>\n",
              "    .dataframe tbody tr th:only-of-type {\n",
              "        vertical-align: middle;\n",
              "    }\n",
              "\n",
              "    .dataframe tbody tr th {\n",
              "        vertical-align: top;\n",
              "    }\n",
              "\n",
              "    .dataframe thead th {\n",
              "        text-align: right;\n",
              "    }\n",
              "</style>\n",
              "<table border=\"1\" class=\"dataframe\">\n",
              "  <thead>\n",
              "    <tr style=\"text-align: right;\">\n",
              "      <th></th>\n",
              "      <th>Jobs_descr</th>\n",
              "    </tr>\n",
              "  </thead>\n",
              "  <tbody>\n",
              "    <tr>\n",
              "      <th>0</th>\n",
              "      <td>Водитель автомобиля большегруза с прицепом . С...</td>\n",
              "    </tr>\n",
              "    <tr>\n",
              "      <th>1</th>\n",
              "      <td>водитель на своем авто . Москва. Начался сезон...</td>\n",
              "    </tr>\n",
              "    <tr>\n",
              "      <th>2</th>\n",
              "      <td>Водитель на своем авто. Москва. Стаж вождения ...</td>\n",
              "    </tr>\n",
              "    <tr>\n",
              "      <th>3</th>\n",
              "      <td>Водитель. Санкт-Петербург. Обязанности:Качеств...</td>\n",
              "    </tr>\n",
              "    <tr>\n",
              "      <th>4</th>\n",
              "      <td>водитель на личном авто. Москва. ищем курьера ...</td>\n",
              "    </tr>\n",
              "    <tr>\n",
              "      <th>5</th>\n",
              "      <td>Водитель-экспедитор 1/ Водитель. Москва. Обяза...</td>\n",
              "    </tr>\n",
              "    <tr>\n",
              "      <th>6</th>\n",
              "      <td>водитель курьер на авто компании. Москва. води...</td>\n",
              "    </tr>\n",
              "    <tr>\n",
              "      <th>7</th>\n",
              "      <td>Менеджер по продажам. Санкт-Петербург. Обязанн...</td>\n",
              "    </tr>\n",
              "    <tr>\n",
              "      <th>8</th>\n",
              "      <td>Водитель-экспедитор. Москва. ЗАДАЧИ:  Доставка...</td>\n",
              "    </tr>\n",
              "    <tr>\n",
              "      <th>9</th>\n",
              "      <td>Водитель. Москва. Наш клиент, крупный холдинг ...</td>\n",
              "    </tr>\n",
              "  </tbody>\n",
              "</table>\n",
              "</div>\n",
              "      <button class=\"colab-df-convert\" onclick=\"convertToInteractive('df-afb406a2-446d-4249-926e-aa2d48451615')\"\n",
              "              title=\"Convert this dataframe to an interactive table.\"\n",
              "              style=\"display:none;\">\n",
              "        \n",
              "  <svg xmlns=\"http://www.w3.org/2000/svg\" height=\"24px\"viewBox=\"0 0 24 24\"\n",
              "       width=\"24px\">\n",
              "    <path d=\"M0 0h24v24H0V0z\" fill=\"none\"/>\n",
              "    <path d=\"M18.56 5.44l.94 2.06.94-2.06 2.06-.94-2.06-.94-.94-2.06-.94 2.06-2.06.94zm-11 1L8.5 8.5l.94-2.06 2.06-.94-2.06-.94L8.5 2.5l-.94 2.06-2.06.94zm10 10l.94 2.06.94-2.06 2.06-.94-2.06-.94-.94-2.06-.94 2.06-2.06.94z\"/><path d=\"M17.41 7.96l-1.37-1.37c-.4-.4-.92-.59-1.43-.59-.52 0-1.04.2-1.43.59L10.3 9.45l-7.72 7.72c-.78.78-.78 2.05 0 2.83L4 21.41c.39.39.9.59 1.41.59.51 0 1.02-.2 1.41-.59l7.78-7.78 2.81-2.81c.8-.78.8-2.07 0-2.86zM5.41 20L4 18.59l7.72-7.72 1.47 1.35L5.41 20z\"/>\n",
              "  </svg>\n",
              "      </button>\n",
              "      \n",
              "  <style>\n",
              "    .colab-df-container {\n",
              "      display:flex;\n",
              "      flex-wrap:wrap;\n",
              "      gap: 12px;\n",
              "    }\n",
              "\n",
              "    .colab-df-convert {\n",
              "      background-color: #E8F0FE;\n",
              "      border: none;\n",
              "      border-radius: 50%;\n",
              "      cursor: pointer;\n",
              "      display: none;\n",
              "      fill: #1967D2;\n",
              "      height: 32px;\n",
              "      padding: 0 0 0 0;\n",
              "      width: 32px;\n",
              "    }\n",
              "\n",
              "    .colab-df-convert:hover {\n",
              "      background-color: #E2EBFA;\n",
              "      box-shadow: 0px 1px 2px rgba(60, 64, 67, 0.3), 0px 1px 3px 1px rgba(60, 64, 67, 0.15);\n",
              "      fill: #174EA6;\n",
              "    }\n",
              "\n",
              "    [theme=dark] .colab-df-convert {\n",
              "      background-color: #3B4455;\n",
              "      fill: #D2E3FC;\n",
              "    }\n",
              "\n",
              "    [theme=dark] .colab-df-convert:hover {\n",
              "      background-color: #434B5C;\n",
              "      box-shadow: 0px 1px 3px 1px rgba(0, 0, 0, 0.15);\n",
              "      filter: drop-shadow(0px 1px 2px rgba(0, 0, 0, 0.3));\n",
              "      fill: #FFFFFF;\n",
              "    }\n",
              "  </style>\n",
              "\n",
              "      <script>\n",
              "        const buttonEl =\n",
              "          document.querySelector('#df-afb406a2-446d-4249-926e-aa2d48451615 button.colab-df-convert');\n",
              "        buttonEl.style.display =\n",
              "          google.colab.kernel.accessAllowed ? 'block' : 'none';\n",
              "\n",
              "        async function convertToInteractive(key) {\n",
              "          const element = document.querySelector('#df-afb406a2-446d-4249-926e-aa2d48451615');\n",
              "          const dataTable =\n",
              "            await google.colab.kernel.invokeFunction('convertToInteractive',\n",
              "                                                     [key], {});\n",
              "          if (!dataTable) return;\n",
              "\n",
              "          const docLinkHtml = 'Like what you see? Visit the ' +\n",
              "            '<a target=\"_blank\" href=https://colab.research.google.com/notebooks/data_table.ipynb>data table notebook</a>'\n",
              "            + ' to learn more about interactive tables.';\n",
              "          element.innerHTML = '';\n",
              "          dataTable['output_type'] = 'display_data';\n",
              "          await google.colab.output.renderOutput(dataTable, element);\n",
              "          const docLink = document.createElement('div');\n",
              "          docLink.innerHTML = docLinkHtml;\n",
              "          element.appendChild(docLink);\n",
              "        }\n",
              "      </script>\n",
              "    </div>\n",
              "  </div>\n",
              "  "
            ]
          },
          "metadata": {},
          "execution_count": 125
        }
      ]
    },
    {
      "cell_type": "code",
      "source": [
        "job_user_tokens2"
      ],
      "metadata": {
        "colab": {
          "base_uri": "https://localhost:8080/",
          "height": 424
        },
        "id": "0nulisw8W5Oa",
        "outputId": "2f80a96b-4b19-4689-c287-74f489846761"
      },
      "execution_count": 124,
      "outputs": [
        {
          "output_type": "execute_result",
          "data": {
            "text/plain": [
              "                                       Candidate_descr\n",
              "0    специалист отдела парковочного комплекса. мужч...\n",
              "1    Оператор. мужчина. Россия. русский:родной||нем...\n",
              "2    Ученик автослесаря , автомеханика .. мужчина. ...\n",
              "3    Агент по обработке авиаперевозок. мужчина. Рос...\n",
              "4    Техник-механик. мужчина. Россия. русский:родно...\n",
              "..                                                 ...\n",
              "195  Менеджер по продажам, ведущий менеджер. женщин...\n",
              "196  Менеджер по продажам, закупкам. мужчина. Росси...\n",
              "197  Менеджер по продажам. мужчина.  Россия. русски...\n",
              "198  Менеджер по продажам. мужчина.  Россия. русски...\n",
              "199  Менеджер по продажам. мужчина.  Россия. русски...\n",
              "\n",
              "[200 rows x 1 columns]"
            ],
            "text/html": [
              "\n",
              "  <div id=\"df-748a499a-b3a3-4e8d-ba63-7433ef40c08e\">\n",
              "    <div class=\"colab-df-container\">\n",
              "      <div>\n",
              "<style scoped>\n",
              "    .dataframe tbody tr th:only-of-type {\n",
              "        vertical-align: middle;\n",
              "    }\n",
              "\n",
              "    .dataframe tbody tr th {\n",
              "        vertical-align: top;\n",
              "    }\n",
              "\n",
              "    .dataframe thead th {\n",
              "        text-align: right;\n",
              "    }\n",
              "</style>\n",
              "<table border=\"1\" class=\"dataframe\">\n",
              "  <thead>\n",
              "    <tr style=\"text-align: right;\">\n",
              "      <th></th>\n",
              "      <th>Candidate_descr</th>\n",
              "    </tr>\n",
              "  </thead>\n",
              "  <tbody>\n",
              "    <tr>\n",
              "      <th>0</th>\n",
              "      <td>специалист отдела парковочного комплекса. мужч...</td>\n",
              "    </tr>\n",
              "    <tr>\n",
              "      <th>1</th>\n",
              "      <td>Оператор. мужчина. Россия. русский:родной||нем...</td>\n",
              "    </tr>\n",
              "    <tr>\n",
              "      <th>2</th>\n",
              "      <td>Ученик автослесаря , автомеханика .. мужчина. ...</td>\n",
              "    </tr>\n",
              "    <tr>\n",
              "      <th>3</th>\n",
              "      <td>Агент по обработке авиаперевозок. мужчина. Рос...</td>\n",
              "    </tr>\n",
              "    <tr>\n",
              "      <th>4</th>\n",
              "      <td>Техник-механик. мужчина. Россия. русский:родно...</td>\n",
              "    </tr>\n",
              "    <tr>\n",
              "      <th>...</th>\n",
              "      <td>...</td>\n",
              "    </tr>\n",
              "    <tr>\n",
              "      <th>195</th>\n",
              "      <td>Менеджер по продажам, ведущий менеджер. женщин...</td>\n",
              "    </tr>\n",
              "    <tr>\n",
              "      <th>196</th>\n",
              "      <td>Менеджер по продажам, закупкам. мужчина. Росси...</td>\n",
              "    </tr>\n",
              "    <tr>\n",
              "      <th>197</th>\n",
              "      <td>Менеджер по продажам. мужчина.  Россия. русски...</td>\n",
              "    </tr>\n",
              "    <tr>\n",
              "      <th>198</th>\n",
              "      <td>Менеджер по продажам. мужчина.  Россия. русски...</td>\n",
              "    </tr>\n",
              "    <tr>\n",
              "      <th>199</th>\n",
              "      <td>Менеджер по продажам. мужчина.  Россия. русски...</td>\n",
              "    </tr>\n",
              "  </tbody>\n",
              "</table>\n",
              "<p>200 rows × 1 columns</p>\n",
              "</div>\n",
              "      <button class=\"colab-df-convert\" onclick=\"convertToInteractive('df-748a499a-b3a3-4e8d-ba63-7433ef40c08e')\"\n",
              "              title=\"Convert this dataframe to an interactive table.\"\n",
              "              style=\"display:none;\">\n",
              "        \n",
              "  <svg xmlns=\"http://www.w3.org/2000/svg\" height=\"24px\"viewBox=\"0 0 24 24\"\n",
              "       width=\"24px\">\n",
              "    <path d=\"M0 0h24v24H0V0z\" fill=\"none\"/>\n",
              "    <path d=\"M18.56 5.44l.94 2.06.94-2.06 2.06-.94-2.06-.94-.94-2.06-.94 2.06-2.06.94zm-11 1L8.5 8.5l.94-2.06 2.06-.94-2.06-.94L8.5 2.5l-.94 2.06-2.06.94zm10 10l.94 2.06.94-2.06 2.06-.94-2.06-.94-.94-2.06-.94 2.06-2.06.94z\"/><path d=\"M17.41 7.96l-1.37-1.37c-.4-.4-.92-.59-1.43-.59-.52 0-1.04.2-1.43.59L10.3 9.45l-7.72 7.72c-.78.78-.78 2.05 0 2.83L4 21.41c.39.39.9.59 1.41.59.51 0 1.02-.2 1.41-.59l7.78-7.78 2.81-2.81c.8-.78.8-2.07 0-2.86zM5.41 20L4 18.59l7.72-7.72 1.47 1.35L5.41 20z\"/>\n",
              "  </svg>\n",
              "      </button>\n",
              "      \n",
              "  <style>\n",
              "    .colab-df-container {\n",
              "      display:flex;\n",
              "      flex-wrap:wrap;\n",
              "      gap: 12px;\n",
              "    }\n",
              "\n",
              "    .colab-df-convert {\n",
              "      background-color: #E8F0FE;\n",
              "      border: none;\n",
              "      border-radius: 50%;\n",
              "      cursor: pointer;\n",
              "      display: none;\n",
              "      fill: #1967D2;\n",
              "      height: 32px;\n",
              "      padding: 0 0 0 0;\n",
              "      width: 32px;\n",
              "    }\n",
              "\n",
              "    .colab-df-convert:hover {\n",
              "      background-color: #E2EBFA;\n",
              "      box-shadow: 0px 1px 2px rgba(60, 64, 67, 0.3), 0px 1px 3px 1px rgba(60, 64, 67, 0.15);\n",
              "      fill: #174EA6;\n",
              "    }\n",
              "\n",
              "    [theme=dark] .colab-df-convert {\n",
              "      background-color: #3B4455;\n",
              "      fill: #D2E3FC;\n",
              "    }\n",
              "\n",
              "    [theme=dark] .colab-df-convert:hover {\n",
              "      background-color: #434B5C;\n",
              "      box-shadow: 0px 1px 3px 1px rgba(0, 0, 0, 0.15);\n",
              "      filter: drop-shadow(0px 1px 2px rgba(0, 0, 0, 0.3));\n",
              "      fill: #FFFFFF;\n",
              "    }\n",
              "  </style>\n",
              "\n",
              "      <script>\n",
              "        const buttonEl =\n",
              "          document.querySelector('#df-748a499a-b3a3-4e8d-ba63-7433ef40c08e button.colab-df-convert');\n",
              "        buttonEl.style.display =\n",
              "          google.colab.kernel.accessAllowed ? 'block' : 'none';\n",
              "\n",
              "        async function convertToInteractive(key) {\n",
              "          const element = document.querySelector('#df-748a499a-b3a3-4e8d-ba63-7433ef40c08e');\n",
              "          const dataTable =\n",
              "            await google.colab.kernel.invokeFunction('convertToInteractive',\n",
              "                                                     [key], {});\n",
              "          if (!dataTable) return;\n",
              "\n",
              "          const docLinkHtml = 'Like what you see? Visit the ' +\n",
              "            '<a target=\"_blank\" href=https://colab.research.google.com/notebooks/data_table.ipynb>data table notebook</a>'\n",
              "            + ' to learn more about interactive tables.';\n",
              "          element.innerHTML = '';\n",
              "          dataTable['output_type'] = 'display_data';\n",
              "          await google.colab.output.renderOutput(dataTable, element);\n",
              "          const docLink = document.createElement('div');\n",
              "          docLink.innerHTML = docLinkHtml;\n",
              "          element.appendChild(docLink);\n",
              "        }\n",
              "      </script>\n",
              "    </div>\n",
              "  </div>\n",
              "  "
            ]
          },
          "metadata": {},
          "execution_count": 124
        }
      ]
    },
    {
      "cell_type": "code",
      "source": [
        "test_data_merged = job_user_tokens2.merge(job_user_tokens1, how = 'cross')"
      ],
      "metadata": {
        "id": "1YEPbUsBWnuU"
      },
      "execution_count": 126,
      "outputs": []
    },
    {
      "cell_type": "code",
      "source": [
        "test_data_merged.duplicated(['Candidate_descr', 'Jobs_descr']).sum()"
      ],
      "metadata": {
        "colab": {
          "base_uri": "https://localhost:8080/"
        },
        "id": "yKqiZIfAd8Eb",
        "outputId": "613f983c-693b-413b-97f6-7d392e3a4ff1"
      },
      "execution_count": 127,
      "outputs": [
        {
          "output_type": "execute_result",
          "data": {
            "text/plain": [
              "10"
            ]
          },
          "metadata": {},
          "execution_count": 127
        }
      ]
    },
    {
      "cell_type": "code",
      "source": [
        "test_data_merged.to_csv('test_data_merged.csv')"
      ],
      "metadata": {
        "id": "Z9Lfw1LNXl9Y"
      },
      "execution_count": 128,
      "outputs": []
    }
  ]
}